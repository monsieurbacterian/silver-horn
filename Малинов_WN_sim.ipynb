{
  "cells": [
    {
      "cell_type": "code",
      "execution_count": null,
      "metadata": {
        "id": "TKQpkk5tqEGP",
        "outputId": "74482f53-a9e3-4d43-988f-694d92d8228e",
        "colab": {
          "base_uri": "https://localhost:8080/"
        }
      },
      "outputs": [
        {
          "output_type": "stream",
          "name": "stderr",
          "text": [
            "[nltk_data] Downloading package wordnet to /root/nltk_data...\n"
          ]
        }
      ],
      "source": [
        "import nltk\n",
        "nltk.download('wordnet')\n",
        "from nltk.corpus import wordnet as wn\n"
      ]
    },
    {
      "cell_type": "code",
      "source": [
        "wn.synsets('eat')"
      ],
      "metadata": {
        "colab": {
          "base_uri": "https://localhost:8080/"
        },
        "id": "WF_A54fjvoO1",
        "outputId": "71450bde-8dcd-4dde-89bf-30cfd5b46ba6"
      },
      "execution_count": null,
      "outputs": [
        {
          "output_type": "execute_result",
          "data": {
            "text/plain": [
              "[Synset('eat.v.01'),\n",
              " Synset('eat.v.02'),\n",
              " Synset('feed.v.06'),\n",
              " Synset('eat.v.04'),\n",
              " Synset('consume.v.05'),\n",
              " Synset('corrode.v.01')]"
            ]
          },
          "metadata": {},
          "execution_count": 107
        }
      ]
    },
    {
      "cell_type": "code",
      "source": [
        "nltk.download('omw-1.4')"
      ],
      "metadata": {
        "colab": {
          "base_uri": "https://localhost:8080/"
        },
        "id": "uLvPl75n8IAA",
        "outputId": "b6a6d79c-2d84-4085-88b5-7eb41ea20f00"
      },
      "execution_count": null,
      "outputs": [
        {
          "output_type": "stream",
          "name": "stderr",
          "text": [
            "[nltk_data] Downloading package omw-1.4 to /root/nltk_data...\n"
          ]
        },
        {
          "output_type": "execute_result",
          "data": {
            "text/plain": [
              "True"
            ]
          },
          "metadata": {},
          "execution_count": 109
        }
      ]
    },
    {
      "cell_type": "code",
      "execution_count": null,
      "metadata": {
        "id": "ruF4oHFkqEGT",
        "outputId": "8a01fb3c-bf28-452b-fe84-dfa46c7957ca",
        "colab": {
          "base_uri": "https://localhost:8080/"
        }
      },
      "outputs": [
        {
          "output_type": "execute_result",
          "data": {
            "text/plain": [
              "['召される',\n",
              " '召しあがる',\n",
              " '召し上がる',\n",
              " '召し上る',\n",
              " '召す',\n",
              " '召上がる',\n",
              " '召上る',\n",
              " '喫する',\n",
              " '喰う',\n",
              " '頂く',\n",
              " '食う',\n",
              " '食する',\n",
              " '食べる',\n",
              " '食む',\n",
              " '食らう',\n",
              " '食事+する']"
            ]
          },
          "metadata": {},
          "execution_count": 117
        }
      ],
      "source": [
        "wn.synset('eat.v.02').lemma_names('jpn')"
      ]
    },
    {
      "cell_type": "code",
      "execution_count": null,
      "metadata": {
        "id": "8JO8M_tgqEGU",
        "outputId": "0471fabe-0370-4ebe-8e85-c3def209dd7b",
        "colab": {
          "base_uri": "https://localhost:8080/",
          "height": 36
        }
      },
      "outputs": [
        {
          "output_type": "execute_result",
          "data": {
            "text/plain": [
              "'eat a meal; take a meal'"
            ],
            "application/vnd.google.colaboratory.intrinsic+json": {
              "type": "string"
            }
          },
          "metadata": {},
          "execution_count": 118
        }
      ],
      "source": [
        "wn.synset('eat.v.02').definition()"
      ]
    },
    {
      "cell_type": "code",
      "execution_count": null,
      "metadata": {
        "id": "5BbOtQ3ZqEGU",
        "outputId": "293028fb-6a3c-4340-a8e0-483b9a1499a0",
        "colab": {
          "base_uri": "https://localhost:8080/"
        }
      },
      "outputs": [
        {
          "output_type": "execute_result",
          "data": {
            "text/plain": [
              "['We did not eat until 10 P.M. because there were so many phone calls',\n",
              " \"I didn't eat yet, so I gladly accept your invitation\"]"
            ]
          },
          "metadata": {},
          "execution_count": 12
        }
      ],
      "source": [
        "wn.synset('eat.v.02').examples()"
      ]
    },
    {
      "cell_type": "code",
      "execution_count": null,
      "metadata": {
        "id": "hgi-g7y_qEGV",
        "outputId": "13cfdada-b1bd-4c13-9683-dd48be162559",
        "colab": {
          "base_uri": "https://localhost:8080/"
        }
      },
      "outputs": [
        {
          "output_type": "execute_result",
          "data": {
            "text/plain": [
              "[Lemma('eat.v.02.eat')]"
            ]
          },
          "metadata": {},
          "execution_count": 13
        }
      ],
      "source": [
        "wn.synset('eat.v.02').lemmas()"
      ]
    },
    {
      "cell_type": "code",
      "execution_count": null,
      "metadata": {
        "id": "Ef1DsobYqEGV",
        "outputId": "589b9a2b-3e89-4071-bd82-f8ed40045e0b"
      },
      "outputs": [
        {
          "data": {
            "text/plain": [
              "[Synset('car.n.01'),\n",
              " Synset('car.n.02'),\n",
              " Synset('car.n.03'),\n",
              " Synset('car.n.04'),\n",
              " Synset('cable_car.n.01')]"
            ]
          },
          "execution_count": 6,
          "metadata": {},
          "output_type": "execute_result"
        }
      ],
      "source": [
        "wn.synsets('eat')"
      ]
    },
    {
      "cell_type": "code",
      "execution_count": null,
      "metadata": {
        "id": "HLqmW1eZqEGW",
        "outputId": "1d2f8bd6-c159-45d6-a4b7-43a3d885c36e",
        "colab": {
          "base_uri": "https://localhost:8080/"
        }
      },
      "outputs": [
        {
          "output_type": "stream",
          "name": "stdout",
          "text": [
            "['eat']\n",
            "['eat']\n",
            "['feed', 'eat']\n",
            "['eat', 'eat_on']\n",
            "['consume', 'eat_up', 'use_up', 'eat', 'deplete', 'exhaust', 'run_through', 'wipe_out']\n",
            "['corrode', 'eat', 'rust']\n"
          ]
        }
      ],
      "source": [
        "for synset in wn.synsets('eat'):\n",
        "    print(synset.lemma_names())"
      ]
    },
    {
      "cell_type": "code",
      "execution_count": null,
      "metadata": {
        "id": "Kn1KrQ3DqEGW",
        "outputId": "db9d39b2-7d25-48d7-ae65-ec0a50f58e86",
        "colab": {
          "base_uri": "https://localhost:8080/"
        }
      },
      "outputs": [
        {
          "output_type": "execute_result",
          "data": {
            "text/plain": [
              "[Lemma('eat.v.01.eat'),\n",
              " Lemma('eat.v.02.eat'),\n",
              " Lemma('feed.v.06.eat'),\n",
              " Lemma('eat.v.04.eat'),\n",
              " Lemma('consume.v.05.eat'),\n",
              " Lemma('corrode.v.01.eat')]"
            ]
          },
          "metadata": {},
          "execution_count": 15
        }
      ],
      "source": [
        "wn.lemmas('eat')"
      ]
    },
    {
      "cell_type": "code",
      "execution_count": null,
      "metadata": {
        "id": "5LRlUP0wqEGX",
        "outputId": "9344a3d9-33d9-4b60-e731-1bebe4f2ccf3",
        "colab": {
          "base_uri": "https://localhost:8080/"
        }
      },
      "outputs": [
        {
          "output_type": "execute_result",
          "data": {
            "text/plain": [
              "Synset('brunch.v.01')"
            ]
          },
          "metadata": {},
          "execution_count": 20
        }
      ],
      "source": [
        "motorcar = wn.synset('eat.v.02')\n",
        "types_of_motorcar = motorcar.hyponyms()\n",
        "types_of_motorcar[2]"
      ]
    },
    {
      "cell_type": "code",
      "execution_count": null,
      "metadata": {
        "id": "1LRA44b6qEGX",
        "outputId": "c3e56ced-ff4d-4515-e1cf-2c9578c3abd0",
        "colab": {
          "base_uri": "https://localhost:8080/"
        }
      },
      "outputs": [
        {
          "output_type": "execute_result",
          "data": {
            "text/plain": [
              "['banquet',\n",
              " 'binge',\n",
              " 'break_bread',\n",
              " 'breakfast',\n",
              " 'brunch',\n",
              " 'dine',\n",
              " 'dine_in',\n",
              " 'dine_out',\n",
              " 'eat',\n",
              " 'eat_in',\n",
              " 'eat_out',\n",
              " 'englut',\n",
              " 'engorge',\n",
              " 'feast',\n",
              " 'glut',\n",
              " 'gorge',\n",
              " 'gormandise',\n",
              " 'gormandize',\n",
              " 'gourmandize',\n",
              " 'ingurgitate',\n",
              " 'junket',\n",
              " 'lunch',\n",
              " 'mess',\n",
              " 'nosh',\n",
              " 'overeat',\n",
              " 'overgorge',\n",
              " 'overindulge',\n",
              " 'picnic',\n",
              " 'pig_out',\n",
              " 'satiate',\n",
              " 'scarf_out',\n",
              " 'snack',\n",
              " 'stuff',\n",
              " 'take_away',\n",
              " 'take_out',\n",
              " 'victual']"
            ]
          },
          "metadata": {},
          "execution_count": 21
        }
      ],
      "source": [
        "sorted(lemma.name() for synset in types_of_motorcar for lemma in synset.lemmas())"
      ]
    },
    {
      "cell_type": "code",
      "execution_count": null,
      "metadata": {
        "id": "M2IraVlEqEGX",
        "outputId": "74225a97-bb6e-4874-d822-3f7f935b7459",
        "colab": {
          "base_uri": "https://localhost:8080/"
        }
      },
      "outputs": [
        {
          "output_type": "execute_result",
          "data": {
            "text/plain": [
              "[Synset('consume.v.02')]"
            ]
          },
          "metadata": {},
          "execution_count": 22
        }
      ],
      "source": [
        "motorcar.hypernyms()"
      ]
    },
    {
      "cell_type": "code",
      "execution_count": null,
      "metadata": {
        "id": "yAfY_iZuqEGX",
        "outputId": "48a40b3d-de14-4106-9f2d-68b785a4b724",
        "colab": {
          "base_uri": "https://localhost:8080/"
        }
      },
      "outputs": [
        {
          "output_type": "execute_result",
          "data": {
            "text/plain": [
              "1"
            ]
          },
          "metadata": {},
          "execution_count": 23
        }
      ],
      "source": [
        "paths = motorcar.hypernym_paths()\n",
        "len(paths)"
      ]
    },
    {
      "cell_type": "code",
      "execution_count": null,
      "metadata": {
        "id": "ZjndocqwqEGY",
        "outputId": "0bc03504-2764-4f3b-a8b4-5797f1bf0893",
        "colab": {
          "base_uri": "https://localhost:8080/"
        }
      },
      "outputs": [
        {
          "output_type": "execute_result",
          "data": {
            "text/plain": [
              "['consume.v.02', 'eat.v.02']"
            ]
          },
          "metadata": {},
          "execution_count": 26
        }
      ],
      "source": [
        "[synset.name() for synset in paths[0]]"
      ]
    },
    {
      "cell_type": "code",
      "execution_count": null,
      "metadata": {
        "id": "0QbpSHIrqEGY",
        "outputId": "dc2fdf16-439d-4219-9277-3c508d72cf0c",
        "colab": {
          "base_uri": "https://localhost:8080/",
          "height": 141
        }
      },
      "outputs": [
        {
          "output_type": "error",
          "ename": "IndexError",
          "evalue": "list index out of range",
          "traceback": [
            "\u001b[0;31m---------------------------------------------------------------------------\u001b[0m",
            "\u001b[0;31mIndexError\u001b[0m                                Traceback (most recent call last)",
            "\u001b[0;32m<ipython-input-27-f9d668d4414c>\u001b[0m in \u001b[0;36m<cell line: 1>\u001b[0;34m()\u001b[0m\n\u001b[0;32m----> 1\u001b[0;31m \u001b[0;34m[\u001b[0m\u001b[0msynset\u001b[0m\u001b[0;34m.\u001b[0m\u001b[0mname\u001b[0m\u001b[0;34m(\u001b[0m\u001b[0;34m)\u001b[0m \u001b[0;32mfor\u001b[0m \u001b[0msynset\u001b[0m \u001b[0;32min\u001b[0m \u001b[0mpaths\u001b[0m\u001b[0;34m[\u001b[0m\u001b[0;36m1\u001b[0m\u001b[0;34m]\u001b[0m\u001b[0;34m]\u001b[0m\u001b[0;34m\u001b[0m\u001b[0;34m\u001b[0m\u001b[0m\n\u001b[0m",
            "\u001b[0;31mIndexError\u001b[0m: list index out of range"
          ]
        }
      ],
      "source": [
        "[synset.name() for synset in paths[1]]"
      ]
    },
    {
      "cell_type": "code",
      "execution_count": null,
      "metadata": {
        "id": "SN4FuJpMqEGY",
        "outputId": "ea36bcf5-8925-47b6-8b40-ddc0111e307a",
        "colab": {
          "base_uri": "https://localhost:8080/"
        }
      },
      "outputs": [
        {
          "output_type": "execute_result",
          "data": {
            "text/plain": [
              "[Synset('consume.v.02')]"
            ]
          },
          "metadata": {},
          "execution_count": 28
        }
      ],
      "source": [
        "motorcar.root_hypernyms()"
      ]
    },
    {
      "cell_type": "code",
      "execution_count": null,
      "metadata": {
        "id": "2nzw0CjmqEGY",
        "outputId": "05c80899-2ad3-4a99-cbbe-fdc4498888fd",
        "colab": {
          "base_uri": "https://localhost:8080/"
        }
      },
      "outputs": [
        {
          "output_type": "execute_result",
          "data": {
            "text/plain": [
              "[]"
            ]
          },
          "metadata": {},
          "execution_count": 47
        }
      ],
      "source": [
        "wn.synset('air.n.03').part_meronyms()"
      ]
    },
    {
      "cell_type": "code",
      "execution_count": null,
      "metadata": {
        "id": "gzs4leifqEGY",
        "outputId": "6460fe13-7829-4a42-edec-6fc1580c03d3",
        "colab": {
          "base_uri": "https://localhost:8080/"
        }
      },
      "outputs": [
        {
          "output_type": "execute_result",
          "data": {
            "text/plain": [
              "[]"
            ]
          },
          "metadata": {},
          "execution_count": 37
        }
      ],
      "source": [
        "wn.synset('eat.v.01').substance_meronyms()"
      ]
    },
    {
      "cell_type": "code",
      "execution_count": null,
      "metadata": {
        "id": "qJZqqqI-qEGZ",
        "outputId": "f9c688ee-77b2-4738-e354-2976a91c622b",
        "colab": {
          "base_uri": "https://localhost:8080/"
        }
      },
      "outputs": [
        {
          "output_type": "execute_result",
          "data": {
            "text/plain": [
              "[]"
            ]
          },
          "metadata": {},
          "execution_count": 40
        }
      ],
      "source": [
        "wn.synset('eat.v.03').member_holonyms()"
      ]
    },
    {
      "cell_type": "code",
      "execution_count": null,
      "metadata": {
        "id": "RFSVO7A8qEGZ",
        "outputId": "10873f31-849a-481e-c84d-64447944672e",
        "colab": {
          "base_uri": "https://localhost:8080/"
        }
      },
      "outputs": [
        {
          "output_type": "stream",
          "name": "stdout",
          "text": [
            "air.n.01: a mixture of gases (especially oxygen) required for breathing; the stuff that the wind consists of\n",
            "air.n.02: the region above the ground\n",
            "air.n.03: a distinctive but intangible quality surrounding a person or thing\n",
            "breeze.n.01: a slight wind (usually refreshing)\n",
            "atmosphere.n.03: the mass of air surrounding the Earth\n",
            "air.n.06: once thought to be one of four elements composing the universe (Empedocles)\n",
            "tune.n.01: a succession of notes forming a distinctive sequence\n",
            "air.n.08: medium for radio and television broadcasting\n",
            "air_travel.n.01: travel via aircraft\n"
          ]
        }
      ],
      "source": [
        "for synset in wn.synsets('air', wn.NOUN):\n",
        "    print(synset.name() + ':', synset.definition())"
      ]
    },
    {
      "cell_type": "code",
      "execution_count": null,
      "metadata": {
        "id": "cFTpZ_UlqEGZ",
        "outputId": "9f530046-2bad-4917-b123-e286e84395b6",
        "colab": {
          "base_uri": "https://localhost:8080/"
        }
      },
      "outputs": [
        {
          "output_type": "execute_result",
          "data": {
            "text/plain": [
              "[]"
            ]
          },
          "metadata": {},
          "execution_count": 51
        }
      ],
      "source": [
        "wn.synset('air.n.03').part_holonyms()"
      ]
    },
    {
      "cell_type": "code",
      "execution_count": null,
      "metadata": {
        "id": "RKmB-9ZvqEGZ",
        "outputId": "9f4001ad-b3d0-4215-d13d-dbe168b3a1f1"
      },
      "outputs": [
        {
          "data": {
            "text/plain": [
              "[Synset('mint.n.05')]"
            ]
          },
          "execution_count": 21,
          "metadata": {},
          "output_type": "execute_result"
        }
      ],
      "source": [
        "wn.synset('mint.n.04').substance_holonyms()"
      ]
    },
    {
      "cell_type": "code",
      "execution_count": null,
      "metadata": {
        "id": "Cc1W5HkfqEGZ",
        "outputId": "5a9f0d70-29b1-4650-85b1-926ff480ae71"
      },
      "outputs": [
        {
          "data": {
            "text/plain": [
              "[Synset('step.v.01')]"
            ]
          },
          "execution_count": 22,
          "metadata": {},
          "output_type": "execute_result"
        }
      ],
      "source": [
        "wn.synset('walk.v.01').entailments()"
      ]
    },
    {
      "cell_type": "code",
      "execution_count": null,
      "metadata": {
        "id": "Yo3JpSnGqEGZ",
        "outputId": "1b258ab4-e59f-4a80-b8a1-803f11d4dd9e"
      },
      "outputs": [
        {
          "data": {
            "text/plain": [
              "[Synset('chew.v.01'), Synset('swallow.v.01')]"
            ]
          },
          "execution_count": 23,
          "metadata": {},
          "output_type": "execute_result"
        }
      ],
      "source": [
        "wn.synset('eat.v.01').entailments()"
      ]
    },
    {
      "cell_type": "code",
      "execution_count": null,
      "metadata": {
        "id": "t4Q0_UU7qEGa",
        "outputId": "362c8a87-d319-44d2-ca24-6036d5387a2a"
      },
      "outputs": [
        {
          "data": {
            "text/plain": [
              "[Synset('arouse.v.07'), Synset('disappoint.v.01')]"
            ]
          },
          "execution_count": 24,
          "metadata": {},
          "output_type": "execute_result"
        }
      ],
      "source": [
        "wn.synset('tease.v.03').entailments()"
      ]
    },
    {
      "cell_type": "code",
      "execution_count": null,
      "metadata": {
        "id": "-NgAf-8MqEGa",
        "outputId": "c0d9e826-784b-4ee7-9a66-cae31ab25008"
      },
      "outputs": [
        {
          "data": {
            "text/plain": [
              "[Lemma('demand.n.02.demand')]"
            ]
          },
          "execution_count": 25,
          "metadata": {},
          "output_type": "execute_result"
        }
      ],
      "source": [
        "wn.lemma('supply.n.02.supply').antonyms()"
      ]
    },
    {
      "cell_type": "code",
      "execution_count": null,
      "metadata": {
        "id": "XEhjwuN-qEGa",
        "outputId": "5c5ae0ec-dcc5-43dc-d865-d5528b5c73e9"
      },
      "outputs": [
        {
          "data": {
            "text/plain": [
              "[Lemma('linger.v.04.linger')]"
            ]
          },
          "execution_count": 26,
          "metadata": {},
          "output_type": "execute_result"
        }
      ],
      "source": [
        "wn.lemma('rush.v.01.rush').antonyms()"
      ]
    },
    {
      "cell_type": "code",
      "execution_count": null,
      "metadata": {
        "id": "SwTt7p1oqEGa",
        "outputId": "1901432f-736b-43ac-ae66-b805601b702f"
      },
      "outputs": [
        {
          "data": {
            "text/plain": [
              "[Lemma('vertical.a.01.vertical'), Lemma('inclined.a.02.inclined')]"
            ]
          },
          "execution_count": 27,
          "metadata": {},
          "output_type": "execute_result"
        }
      ],
      "source": [
        "wn.lemma('horizontal.a.01.horizontal').antonyms()"
      ]
    },
    {
      "cell_type": "code",
      "execution_count": null,
      "metadata": {
        "id": "igiSJ9h_qEGa",
        "outputId": "20f17740-73ee-4c2d-e309-24eb45ed3eae"
      },
      "outputs": [
        {
          "data": {
            "text/plain": [
              "[Lemma('legato.r.01.legato')]"
            ]
          },
          "execution_count": 28,
          "metadata": {},
          "output_type": "execute_result"
        }
      ],
      "source": [
        "wn.lemma('staccato.r.01.staccato').antonyms()"
      ]
    },
    {
      "cell_type": "code",
      "execution_count": null,
      "metadata": {
        "id": "yF8_GEvjqEGa",
        "outputId": "ee3ceeac-521f-4449-b8cf-f9b60bc1efd8",
        "colab": {
          "base_uri": "https://localhost:8080/"
        }
      },
      "outputs": [
        {
          "output_type": "execute_result",
          "data": {
            "text/plain": [
              "[Synset('physical_entity.n.01')]"
            ]
          },
          "metadata": {},
          "execution_count": 56
        }
      ],
      "source": [
        "right = wn.synset('right_whale.n.01')\n",
        "orca = wn.synset('air.n.01')\n",
        "minke = wn.synset('minke_whale.n.01')\n",
        "tortoise = wn.synset('tortoise.n.01')\n",
        "novel = wn.synset('novel.n.01')\n",
        "orca.lowest_common_hypernyms(minke)"
      ]
    },
    {
      "cell_type": "code",
      "execution_count": null,
      "metadata": {
        "id": "ZOTGy24oqEGa",
        "outputId": "c6111776-b2e1-434f-b968-c7afcccc57c7"
      },
      "outputs": [
        {
          "data": {
            "text/plain": [
              "[Synset('whale.n.02')]"
            ]
          },
          "execution_count": 30,
          "metadata": {},
          "output_type": "execute_result"
        }
      ],
      "source": [
        "right.lowest_common_hypernyms(orca)"
      ]
    },
    {
      "cell_type": "code",
      "execution_count": null,
      "metadata": {
        "id": "qTbDlqi0qEGa",
        "outputId": "2555de6f-1cf4-4cbc-f87a-ce711fda14b1"
      },
      "outputs": [
        {
          "data": {
            "text/plain": [
              "[Synset('vertebrate.n.01')]"
            ]
          },
          "execution_count": 31,
          "metadata": {},
          "output_type": "execute_result"
        }
      ],
      "source": [
        "right.lowest_common_hypernyms(tortoise)"
      ]
    },
    {
      "cell_type": "code",
      "execution_count": null,
      "metadata": {
        "id": "562P_POsqEGb",
        "outputId": "517c7a05-b641-4011-cf32-5df08bc03b05"
      },
      "outputs": [
        {
          "data": {
            "text/plain": [
              "[Synset('entity.n.01')]"
            ]
          },
          "execution_count": 32,
          "metadata": {},
          "output_type": "execute_result"
        }
      ],
      "source": [
        "right.lowest_common_hypernyms(novel)"
      ]
    },
    {
      "cell_type": "code",
      "execution_count": null,
      "metadata": {
        "id": "hL-B5XLqqEGb",
        "outputId": "e798e432-50d8-4e5e-ebb5-a60198477f05",
        "colab": {
          "base_uri": "https://localhost:8080/"
        }
      },
      "outputs": [
        {
          "output_type": "execute_result",
          "data": {
            "text/plain": [
              "5"
            ]
          },
          "metadata": {},
          "execution_count": 52
        }
      ],
      "source": [
        "wn.synset('air.n.01').min_depth()"
      ]
    },
    {
      "cell_type": "code",
      "execution_count": null,
      "metadata": {
        "id": "IEInH5rfqEGb",
        "outputId": "b6df3fd7-8c48-4aed-b22b-dd3b0cfd91aa",
        "colab": {
          "base_uri": "https://localhost:8080/"
        }
      },
      "outputs": [
        {
          "output_type": "execute_result",
          "data": {
            "text/plain": [
              "5"
            ]
          },
          "metadata": {},
          "execution_count": 53
        }
      ],
      "source": [
        "wn.synset('air.n.02').min_depth()"
      ]
    },
    {
      "cell_type": "code",
      "execution_count": null,
      "metadata": {
        "id": "s-Uh9Id8qEGb",
        "outputId": "4e0d901a-6dca-4f41-84ce-adfebe676817",
        "colab": {
          "base_uri": "https://localhost:8080/"
        }
      },
      "outputs": [
        {
          "output_type": "execute_result",
          "data": {
            "text/plain": [
              "4"
            ]
          },
          "metadata": {},
          "execution_count": 54
        }
      ],
      "source": [
        "wn.synset('air.n.03').min_depth()"
      ]
    },
    {
      "cell_type": "code",
      "execution_count": null,
      "metadata": {
        "id": "kNvy6M8dqEGb",
        "outputId": "61b97a07-4597-470d-8cb0-7a2af301154f",
        "colab": {
          "base_uri": "https://localhost:8080/"
        }
      },
      "outputs": [
        {
          "output_type": "execute_result",
          "data": {
            "text/plain": [
              "9"
            ]
          },
          "metadata": {},
          "execution_count": 55
        }
      ],
      "source": [
        "wn.synset('breeze.n.01').min_depth()"
      ]
    },
    {
      "cell_type": "code",
      "execution_count": null,
      "metadata": {
        "id": "-B6jz4a2qEGb",
        "outputId": "002deed8-c8cf-4aa5-9def-1ded425ab062",
        "colab": {
          "base_uri": "https://localhost:8080/"
        }
      },
      "outputs": [
        {
          "output_type": "execute_result",
          "data": {
            "text/plain": [
              "0.25"
            ]
          },
          "metadata": {},
          "execution_count": 57
        }
      ],
      "source": [
        "right.path_similarity(minke)"
      ]
    },
    {
      "cell_type": "code",
      "execution_count": null,
      "metadata": {
        "id": "LUi2RkXqqEGc",
        "outputId": "78e83415-30c1-4ed6-af5c-dac50059e14f",
        "colab": {
          "base_uri": "https://localhost:8080/"
        }
      },
      "outputs": [
        {
          "output_type": "execute_result",
          "data": {
            "text/plain": [
              "0.05263157894736842"
            ]
          },
          "metadata": {},
          "execution_count": 58
        }
      ],
      "source": [
        "right.path_similarity(orca)"
      ]
    },
    {
      "cell_type": "code",
      "execution_count": null,
      "metadata": {
        "id": "lxIID8UdqEGc",
        "outputId": "a50430d5-b6e8-4909-c160-569ce16ce8b5"
      },
      "outputs": [
        {
          "data": {
            "text/plain": [
              "0.07692307692307693"
            ]
          },
          "execution_count": 42,
          "metadata": {},
          "output_type": "execute_result"
        }
      ],
      "source": [
        "right.path_similarity(tortoise)"
      ]
    },
    {
      "cell_type": "code",
      "execution_count": null,
      "metadata": {
        "id": "RshETU7HqEGm",
        "outputId": "40dba3b6-5b98-4b1f-8f6a-ddc6e9f52ba6"
      },
      "outputs": [
        {
          "data": {
            "text/plain": [
              "0.043478260869565216"
            ]
          },
          "execution_count": 43,
          "metadata": {},
          "output_type": "execute_result"
        }
      ],
      "source": [
        "right.path_similarity(novel)"
      ]
    },
    {
      "cell_type": "code",
      "execution_count": null,
      "metadata": {
        "id": "f3HZJVbeqEGm"
      },
      "outputs": [],
      "source": [
        "dog = wn.synset('dog.n.01')\n",
        "cat = wn.synset('cat.n.01')"
      ]
    },
    {
      "cell_type": "code",
      "execution_count": null,
      "metadata": {
        "id": "_0T0ZodtqEGn"
      },
      "outputs": [],
      "source": [
        "hit = wn.synset('air.n.01')\n",
        "slap = wn.synset('breeze.n.01')"
      ]
    },
    {
      "cell_type": "code",
      "execution_count": null,
      "metadata": {
        "id": "Ei4Y1vL3qEGn",
        "outputId": "0d5491f4-03f3-4d0b-efc9-8cc09ebc1e8b"
      },
      "outputs": [
        {
          "data": {
            "text/plain": [
              "0.2"
            ]
          },
          "execution_count": 39,
          "metadata": {},
          "output_type": "execute_result"
        }
      ],
      "source": [
        "dog.path_similarity(cat)"
      ]
    },
    {
      "cell_type": "code",
      "execution_count": null,
      "metadata": {
        "id": "PGnf6aBlqEGn",
        "outputId": "98678a3e-1a1e-4178-a99d-2c29bb21922f",
        "colab": {
          "base_uri": "https://localhost:8080/"
        }
      },
      "outputs": [
        {
          "output_type": "execute_result",
          "data": {
            "text/plain": [
              "0.07692307692307693"
            ]
          },
          "metadata": {},
          "execution_count": 63
        }
      ],
      "source": [
        "hit.path_similarity(slap)"
      ]
    },
    {
      "cell_type": "code",
      "execution_count": null,
      "metadata": {
        "id": "R8ABcqniqEGn",
        "outputId": "4728ecf2-6914-410b-a505-100933cf65e6",
        "colab": {
          "base_uri": "https://localhost:8080/"
        }
      },
      "outputs": [
        {
          "output_type": "execute_result",
          "data": {
            "text/plain": [
              "0.07692307692307693"
            ]
          },
          "metadata": {},
          "execution_count": 64
        }
      ],
      "source": [
        "wn.path_similarity(hit, slap)"
      ]
    },
    {
      "cell_type": "code",
      "execution_count": null,
      "metadata": {
        "id": "fa8pSk4tqEGn",
        "outputId": "2e35c5c5-ea42-48f0-f698-cf760077ab90"
      },
      "outputs": [
        {
          "data": {
            "text/plain": [
              "2.0281482472922856"
            ]
          },
          "execution_count": 42,
          "metadata": {},
          "output_type": "execute_result"
        }
      ],
      "source": [
        "dog.lch_similarity(cat)"
      ]
    },
    {
      "cell_type": "code",
      "execution_count": null,
      "metadata": {
        "id": "YZETR0ftqEGn",
        "outputId": "3496d910-5bb4-4cfd-82b2-b19e384b4f2f",
        "colab": {
          "base_uri": "https://localhost:8080/"
        }
      },
      "outputs": [
        {
          "output_type": "execute_result",
          "data": {
            "text/plain": [
              "1.072636802264849"
            ]
          },
          "metadata": {},
          "execution_count": 65
        }
      ],
      "source": [
        "hit.lch_similarity(slap)"
      ]
    },
    {
      "cell_type": "code",
      "execution_count": null,
      "metadata": {
        "id": "d0UePxP5qEGo",
        "outputId": "f1aff9f0-2c6a-4845-b47f-c47dd1481aae",
        "colab": {
          "base_uri": "https://localhost:8080/"
        }
      },
      "outputs": [
        {
          "output_type": "execute_result",
          "data": {
            "text/plain": [
              "1.072636802264849"
            ]
          },
          "metadata": {},
          "execution_count": 66
        }
      ],
      "source": [
        "wn.lch_similarity(hit, slap)"
      ]
    },
    {
      "cell_type": "code",
      "execution_count": null,
      "metadata": {
        "id": "xFzoYDiEqEGo",
        "outputId": "0fd78cbd-54d2-4483-df61-d7c57c906b76"
      },
      "outputs": [
        {
          "data": {
            "text/plain": [
              "0.8571428571428571"
            ]
          },
          "execution_count": 45,
          "metadata": {},
          "output_type": "execute_result"
        }
      ],
      "source": [
        "dog.wup_similarity(cat)"
      ]
    },
    {
      "cell_type": "code",
      "execution_count": null,
      "metadata": {
        "id": "85W8d-J7qEGo",
        "outputId": "bc3d72a2-910a-4ae8-aa60-a9c78377bce1",
        "colab": {
          "base_uri": "https://localhost:8080/"
        }
      },
      "outputs": [
        {
          "output_type": "execute_result",
          "data": {
            "text/plain": [
              "0.25"
            ]
          },
          "metadata": {},
          "execution_count": 67
        }
      ],
      "source": [
        "hit.wup_similarity(slap)"
      ]
    },
    {
      "cell_type": "code",
      "execution_count": null,
      "metadata": {
        "id": "FhdjRzEzqEGo",
        "outputId": "9b50ec0d-7df6-487a-e985-332c10014cd4",
        "colab": {
          "base_uri": "https://localhost:8080/"
        }
      },
      "outputs": [
        {
          "output_type": "execute_result",
          "data": {
            "text/plain": [
              "0.25"
            ]
          },
          "metadata": {},
          "execution_count": 68
        }
      ],
      "source": [
        "wn.wup_similarity(hit, slap)"
      ]
    },
    {
      "cell_type": "code",
      "source": [
        "nltk.download('wordnet_ic')\n",
        "nltk.download('genesis')"
      ],
      "metadata": {
        "id": "_ZzGYdnt3jov"
      },
      "execution_count": null,
      "outputs": []
    },
    {
      "cell_type": "code",
      "execution_count": null,
      "metadata": {
        "id": "Vu-XqRjfqEGo"
      },
      "outputs": [],
      "source": [
        "from nltk.corpus import wordnet_ic\n",
        "brown_ic = wordnet_ic.ic('ic-brown.dat')\n",
        "semcor_ic = wordnet_ic.ic('ic-semcor.dat')"
      ]
    },
    {
      "cell_type": "code",
      "execution_count": null,
      "metadata": {
        "id": "TBpAbn1xqEGo"
      },
      "outputs": [],
      "source": [
        "from nltk.corpus import genesis\n",
        "genesis_ic = wn.ic(genesis, False, 0.0)"
      ]
    },
    {
      "cell_type": "code",
      "execution_count": null,
      "metadata": {
        "id": "tlEeuLMPqEGp",
        "outputId": "af4d4a1c-b48e-43d6-8a30-b78517c46d3d",
        "colab": {
          "base_uri": "https://localhost:8080/"
        }
      },
      "outputs": [
        {
          "output_type": "execute_result",
          "data": {
            "text/plain": [
              "0.8017591149538994"
            ]
          },
          "metadata": {},
          "execution_count": 76
        }
      ],
      "source": [
        "hit.res_similarity(slap, brown_ic)"
      ]
    },
    {
      "cell_type": "code",
      "execution_count": null,
      "metadata": {
        "id": "EI_3lPmMqEGp",
        "outputId": "e5c8531c-319a-4d5c-9e67-6c767457603f",
        "colab": {
          "base_uri": "https://localhost:8080/"
        }
      },
      "outputs": [
        {
          "output_type": "execute_result",
          "data": {
            "text/plain": [
              "0.4918721207363003"
            ]
          },
          "metadata": {},
          "execution_count": 90
        }
      ],
      "source": [
        "hit.res_similarity(slap, genesis_ic)"
      ]
    },
    {
      "cell_type": "code",
      "execution_count": null,
      "metadata": {
        "id": "AX3NgaH1qEGp",
        "outputId": "95dd7402-5088-4528-ae64-886d29975ac1",
        "colab": {
          "base_uri": "https://localhost:8080/"
        }
      },
      "outputs": [
        {
          "output_type": "execute_result",
          "data": {
            "text/plain": [
              "0.07120270921340692"
            ]
          },
          "metadata": {},
          "execution_count": 88
        }
      ],
      "source": [
        "hit.lin_similarity(slap, semcor_ic)"
      ]
    },
    {
      "cell_type": "code",
      "execution_count": null,
      "metadata": {
        "id": "7jzvDY52qEGp",
        "outputId": "407ede47-9a41-4514-ed60-d65d725f3267",
        "colab": {
          "base_uri": "https://localhost:8080/"
        }
      },
      "outputs": [
        {
          "output_type": "execute_result",
          "data": {
            "text/plain": [
              "0.06239070016066035"
            ]
          },
          "metadata": {},
          "execution_count": 86
        }
      ],
      "source": [
        "hit.jcn_similarity(slap, semcor_ic)"
      ]
    },
    {
      "cell_type": "code",
      "execution_count": null,
      "metadata": {
        "id": "_yR58orNqEGp",
        "outputId": "6982eede-0df1-483d-cbf0-de8828cee812",
        "colab": {
          "base_uri": "https://localhost:8080/"
        }
      },
      "outputs": [
        {
          "output_type": "execute_result",
          "data": {
            "text/plain": [
              "0.25"
            ]
          },
          "metadata": {},
          "execution_count": 115
        }
      ],
      "source": [
        "hit.wup_similarity(slap, semcor_ic)"
      ]
    },
    {
      "cell_type": "code",
      "source": [
        "from nltk.wsd import lesk"
      ],
      "metadata": {
        "id": "Bs49UK-v5D9y"
      },
      "execution_count": null,
      "outputs": []
    },
    {
      "cell_type": "code",
      "execution_count": null,
      "metadata": {
        "id": "5Fu75oFQqEGq",
        "outputId": "bec53ae9-430c-4086-b5cb-4fbc554c6133",
        "colab": {
          "base_uri": "https://localhost:8080/",
          "height": 141
        }
      },
      "outputs": [
        {
          "output_type": "error",
          "ename": "AttributeError",
          "evalue": "'Synset' object has no attribute 'lesk_similarity'",
          "traceback": [
            "\u001b[0;31m---------------------------------------------------------------------------\u001b[0m",
            "\u001b[0;31mAttributeError\u001b[0m                            Traceback (most recent call last)",
            "\u001b[0;32m<ipython-input-100-e10ff5bbca69>\u001b[0m in \u001b[0;36m<cell line: 1>\u001b[0;34m()\u001b[0m\n\u001b[0;32m----> 1\u001b[0;31m \u001b[0mhit\u001b[0m\u001b[0;34m.\u001b[0m\u001b[0mlesk_similarity\u001b[0m\u001b[0;34m(\u001b[0m\u001b[0mslap\u001b[0m\u001b[0;34m,\u001b[0m \u001b[0msemcor_ic\u001b[0m\u001b[0;34m)\u001b[0m\u001b[0;34m\u001b[0m\u001b[0;34m\u001b[0m\u001b[0m\n\u001b[0m",
            "\u001b[0;31mAttributeError\u001b[0m: 'Synset' object has no attribute 'lesk_similarity'"
          ]
        }
      ],
      "source": [
        "hit.lesk_similarity(slap, semcor_ic)"
      ]
    },
    {
      "cell_type": "code",
      "execution_count": null,
      "metadata": {
        "id": "yORceF0hqEGq",
        "colab": {
          "base_uri": "https://localhost:8080/",
          "height": 141
        },
        "outputId": "5831c876-1149-48f3-9d76-2191b9053669"
      },
      "outputs": [
        {
          "output_type": "error",
          "ename": "NameError",
          "evalue": "name 'lesk_similarity' is not defined",
          "traceback": [
            "\u001b[0;31m---------------------------------------------------------------------------\u001b[0m",
            "\u001b[0;31mNameError\u001b[0m                                 Traceback (most recent call last)",
            "\u001b[0;32m<ipython-input-103-24be7b7b5cbe>\u001b[0m in \u001b[0;36m<cell line: 1>\u001b[0;34m()\u001b[0m\n\u001b[0;32m----> 1\u001b[0;31m \u001b[0mprint\u001b[0m\u001b[0;34m(\u001b[0m\u001b[0mlesk_similarity\u001b[0m\u001b[0;34m(\u001b[0m\u001b[0mhit\u001b[0m\u001b[0;34m,\u001b[0m \u001b[0mslap\u001b[0m\u001b[0;34m)\u001b[0m\u001b[0;34m)\u001b[0m\u001b[0;34m\u001b[0m\u001b[0;34m\u001b[0m\u001b[0m\n\u001b[0m",
            "\u001b[0;31mNameError\u001b[0m: name 'lesk_similarity' is not defined"
          ]
        }
      ],
      "source": [
        "print(lesk_similarity(hit, slap))"
      ]
    }
  ],
  "metadata": {
    "kernelspec": {
      "display_name": "Python 3",
      "language": "python",
      "name": "python3"
    },
    "language_info": {
      "codemirror_mode": {
        "name": "ipython",
        "version": 3
      },
      "file_extension": ".py",
      "mimetype": "text/x-python",
      "name": "python",
      "nbconvert_exporter": "python",
      "pygments_lexer": "ipython3",
      "version": "3.8.5"
    },
    "colab": {
      "provenance": []
    }
  },
  "nbformat": 4,
  "nbformat_minor": 0
}