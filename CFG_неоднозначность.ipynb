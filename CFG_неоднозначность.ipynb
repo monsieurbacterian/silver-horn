{
  "nbformat": 4,
  "nbformat_minor": 0,
  "metadata": {
    "colab": {
      "provenance": []
    },
    "kernelspec": {
      "name": "python3",
      "display_name": "Python 3"
    },
    "language_info": {
      "name": "python"
    }
  },
  "cells": [
    {
      "cell_type": "code",
      "execution_count": null,
      "metadata": {
        "id": "Vg8A1-KdyP3j"
      },
      "outputs": [],
      "source": [
        "import nltk\n",
        "from nltk import CFG\n",
        "\n",
        "grammar = nltk.CFG.fromstring(\"\"\"\n",
        "S -> VP FullStop\n",
        "VP -> N VP | PrepP VP | V NP | V PrepP\n",
        "PrepP -> Prep N | PrepP PrepP\n",
        "NP -> NP SubordC1 | N NP | N NP | N N | N SubordC1\n",
        "SubordC1 -> Comma Conj Pron VP\n",
        "\n",
        "N -> 'Иван' | 'школе' | 'перевод' | 'Пушкина' | 'сайте' | 'Интернете'\n",
        "V -> 'прочитал' | 'заказал'\n",
        "Prep -> 'в' | 'на'\n",
        "Comma -> ','\n",
        "Pron -> 'он'\n",
        "Conj -> 'который'\n",
        "FullStop -> '.'\n",
        "\n",
        "\"\"\")\n",
        "#нетерминал S распадается на нетерминал VP b FullStop(FS)\n",
        "#VP (глаг группа) распадается на N и VP или(|) PrepP & VP или V & NP\n",
        "#распад на предлог и существительное (PrepP & N)\n",
        "# потом мы записываем слова в группы, распад которых указали\n",
        "\n",
        "sent = ['Иван', 'в', 'школе', 'прочитал', 'перевод', 'Пушкина', ',', 'который', 'он', 'заказал', 'на', 'сайте', 'в', 'Интернете', '.']\n",
        "\n",
        "parser = nltk.ChartParser(grammar)\n",
        "all_options = parser.parse(sent)\n",
        "#print(all_options)\n",
        "for tree in all_options:\n",
        "  print(tree)\n",
        "#for i in parser.parse(sent): #через grammar мы разбираем предложение sent\n",
        "\n",
        "\n"
      ]
    },
    {
      "cell_type": "code",
      "source": [
        "#SubordC1 — придаточная часть\n",
        "#знаки препинания тоже надо прописывать — comma (запятая)\n",
        "#Conj — союз\n",
        "\n",
        "#теперь надо организовать вывод всего того, что мы прописали\n",
        "#каждое слово подаём через список\n",
        "#создаём таблицу, где парсер будет понимать, что с чем соединяется\n",
        "#чтобы вывести предложение в скобочной записи, мы обращаемся к парсеру и просим выдать предложение\n"
      ],
      "metadata": {
        "id": "w5StO3mU8ArR"
      },
      "execution_count": null,
      "outputs": []
    },
    {
      "cell_type": "code",
      "source": [
        "import nltk\n",
        "from nltk import PCFG\n",
        "# ЭТО статистический вариант снятия неоднозначности!!! Но не факт, что он подойдет с точки зрения лингвистики\n",
        "#будем рассчитывать вес для левой части, реализация алгоритма Витерби. В \"[]\" записываем вес\n",
        "# prep n делим на 4 и умножаем на 3, потому что prep n это правило, которое встречается 4 раза\n",
        "grammar = nltk.PCFG.fromstring(\"\"\"\n",
        "S -> VP FullStop [1.0]\n",
        "VP -> N VP [0.25] | PrepP VP [0.25] | V NP [0.25] | V PrepP [0.25]\n",
        "PrepP -> Prep N [0.75] | PrepP PrepP [0.25]\n",
        "NP -> NP SubordC1 [0.25] | N NP [0.25] | N N [0.25] | N SubordC1 [0.25]\n",
        "SubordC1 -> Comma Conj Pron VP [1.0]\n",
        "\n",
        "N -> 'Иван' [0.17] | 'школе' [0.17] | 'перевод' [0.17] | 'Пушкина' [0.15] | 'сайте' [0.17] | 'Интернете' [0.17]\n",
        "V -> 'прочитал' [0.5] | 'заказал' [0.5]\n",
        "Prep -> 'в' [0.66] | 'на' [0.34]\n",
        "Comma -> ',' [1.0]\n",
        "Pron -> 'он' [1.0]\n",
        "Conj -> 'который' [1.0]\n",
        "FullStop -> '.' [1.0]\n",
        "\n",
        "\"\"\")\n",
        "\n",
        "sent = ['Иван', 'в', 'школе', 'прочитал', 'перевод', 'Пушкина', ',', 'который', 'он', 'заказал', 'на', 'сайте', 'в', 'Интернете', '.']\n",
        "\n",
        "parser = nltk.ViterbiParser(grammar) #поменяли парсер на ViterbiParser\n",
        "all_options = parser.parse(sent)\n",
        "\n",
        "for tree in all_options:\n",
        "  print(tree)"
      ],
      "metadata": {
        "id": "K917cIwg977R"
      },
      "execution_count": null,
      "outputs": []
    },
    {
      "cell_type": "code",
      "source": [
        "import nltk\n",
        "from nltk import PCFG\n",
        "# ЭТО статистический вариант снятия неоднозначности!!! Но не факт, что он подойдет с точки зрения лингвистики\n",
        "#будем рассчитывать вес для левой части, реализация алгоритма Витерби. В \"[]\" записываем вес\n",
        "# prep n делим на 4 и умножаем на 3, потому что prep n это правило, которое встречается 4 раза\n",
        "grammar = nltk.PCFG.fromstring(\"\"\"\n",
        "S -> VP FullStop [1.0]\n",
        "VP -> Pron VP [0.25] | V VP [0.25] | VP PrepP [0.25] | V N [0.25]\n",
        "NP -> N PrepP [1.0]\n",
        "PrepP -> Prep N [1.0]\n",
        "\n",
        "Pron -> 'Он' [1.0]\n",
        "V -> 'встретил' [1.0]\n",
        "N -> 'Колю' [0.5] | 'пиджаке' [0.5]\n",
        "Prep -> 'в' [1.0]\n",
        "FullStop -> '.' [1.0]\n",
        "\"\"\")\n",
        "\n",
        "sent = ['Он', 'встретил', 'Колю', 'в', 'пиджаке', '.']\n",
        "\n",
        "parser = nltk.ViterbiParser(grammar) #поменяли парсер на ViterbiParser\n",
        "all_options = parser.parse(sent)\n",
        "\n",
        "for tree in all_options:\n",
        "  print(tree)"
      ],
      "metadata": {
        "colab": {
          "base_uri": "https://localhost:8080/"
        },
        "id": "rCeCueMlARmr",
        "outputId": "18379468-dea7-4eaa-cc6f-74af10eb0197"
      },
      "execution_count": null,
      "outputs": [
        {
          "output_type": "stream",
          "name": "stdout",
          "text": [
            "(S\n",
            "  (VP\n",
            "    (Pron Он)\n",
            "    (VP\n",
            "      (VP (V встретил) (N Колю))\n",
            "      (PrepP (Prep в) (N пиджаке))))\n",
            "  (FullStop .)) (p=0.00390625)\n"
          ]
        }
      ]
    },
    {
      "cell_type": "code",
      "source": [],
      "metadata": {
        "id": "22sKXH0nEExL"
      },
      "execution_count": null,
      "outputs": []
    }
  ]
}