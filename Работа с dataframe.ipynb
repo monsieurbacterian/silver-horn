{
  "cells": [
    {
      "cell_type": "markdown",
      "metadata": {
        "id": "EKHBnNEgB296"
      },
      "source": [
        "<center style=\"font-size: 26px\"> <b>Проверка уровня знаний Python</b></center>"
      ]
    },
    {
      "cell_type": "code",
      "execution_count": 2,
      "metadata": {
        "id": "R77x6NQFB299"
      },
      "outputs": [],
      "source": [
        "# обеспечиваем совместимость с Python 2 и 3\n",
        "from __future__ import (absolute_import, division, print_function, unicode_literals)\n",
        "\n",
        "# отключаем предупреждения дистрибутива Anaconda\n",
        "import warnings\n",
        "warnings.simplefilter('ignore')"
      ]
    },
    {
      "cell_type": "markdown",
      "metadata": {
        "id": "FFXRtMKoB29-"
      },
      "source": [
        "**Описание датасета:**   \n",
        "[Датасет вакансий с платформы HH.ru на Kaggle.com](https://www.kaggle.com/datasets/pavfedotov/heaadhunter-vacancies?resource=download&select=df2021-08-03.csv)\n",
        "\n",
        "Нужный файл - df2021-08-03.csv.\n",
        "\n",
        "- *vacancy* - наименование вакансии\n",
        "- *url* - ссылка на вакансию\n",
        "- *created* - дата и время создания\n",
        "- *has_test* - наличие тестового задания в вакансии\n",
        "- *salary_from* - нижняя граница значения заработной платы\n",
        "- *salary_to* - верхняя граница значения заработной платы\n",
        "- *currency* - валюта заработной платы\n",
        "- *experience* - требуемый опыт\n",
        "- *schedule* - тип рабочего графика\n",
        "- *skills* - требуемые навыки\n",
        "- *employer* - наименование работодателя\n",
        "- *area* - наименование города\n",
        "- *description* - описание вакансии"
      ]
    },
    {
      "cell_type": "markdown",
      "metadata": {
        "id": "i6Dcm35SB29_"
      },
      "source": [
        "#### Загрузите датасет"
      ]
    },
    {
      "cell_type": "code",
      "execution_count": null,
      "metadata": {
        "id": "ij2vU2DuB2-A"
      },
      "outputs": [],
      "source": [
        "# ВАШ КОД ЗДЕСЬ"
      ]
    },
    {
      "cell_type": "code",
      "source": [
        "!pip install pandas"
      ],
      "metadata": {
        "colab": {
          "base_uri": "https://localhost:8080/"
        },
        "id": "gNV4nZmNH7xt",
        "outputId": "16f8ef52-ae67-4a03-9e92-da2a125ab48c"
      },
      "execution_count": 3,
      "outputs": [
        {
          "output_type": "stream",
          "name": "stdout",
          "text": [
            "Requirement already satisfied: pandas in /usr/local/lib/python3.10/dist-packages (2.0.3)\n",
            "Requirement already satisfied: python-dateutil>=2.8.2 in /usr/local/lib/python3.10/dist-packages (from pandas) (2.8.2)\n",
            "Requirement already satisfied: pytz>=2020.1 in /usr/local/lib/python3.10/dist-packages (from pandas) (2023.4)\n",
            "Requirement already satisfied: tzdata>=2022.1 in /usr/local/lib/python3.10/dist-packages (from pandas) (2024.1)\n",
            "Requirement already satisfied: numpy>=1.21.0 in /usr/local/lib/python3.10/dist-packages (from pandas) (1.25.2)\n",
            "Requirement already satisfied: six>=1.5 in /usr/local/lib/python3.10/dist-packages (from python-dateutil>=2.8.2->pandas) (1.16.0)\n"
          ]
        }
      ]
    },
    {
      "cell_type": "code",
      "source": [
        "import pandas as pd"
      ],
      "metadata": {
        "id": "zmC-m793IlF7"
      },
      "execution_count": 4,
      "outputs": []
    },
    {
      "cell_type": "code",
      "source": [
        "pd = pd.read_csv('df2021-08-03.csv')"
      ],
      "metadata": {
        "id": "IKHyiNs4Iqfq"
      },
      "execution_count": 6,
      "outputs": []
    },
    {
      "cell_type": "code",
      "source": [
        "pd"
      ],
      "metadata": {
        "id": "zgZnjwdKI3L5"
      },
      "execution_count": null,
      "outputs": []
    },
    {
      "cell_type": "markdown",
      "metadata": {
        "id": "NMvdEfB3B2-A"
      },
      "source": [
        "### Практические задания:"
      ]
    },
    {
      "cell_type": "markdown",
      "metadata": {
        "id": "-nAtUfmHB2-A"
      },
      "source": [
        "#### 1. Изучите методы для сбора данных курсов валют в [API Центрального банка Российской Федерации](https://www.cbr.ru/development/SXML/) . Используя запросы к API, приведите значения заработной платы к рублям одним из вариантов: 1) простой вариант - на текущую дату  2) вариант посложнее - на дату создания (created).\n",
        "\n",
        "Ответ 1 -- test_pd_no_nan\n",
        "Ответ 2 -- pd_diff_test"
      ]
    },
    {
      "cell_type": "code",
      "source": [],
      "metadata": {
        "id": "ra_a7ZttaWm_"
      },
      "execution_count": null,
      "outputs": []
    },
    {
      "cell_type": "code",
      "execution_count": 60,
      "metadata": {
        "scrolled": true,
        "id": "8BGtK1mPB2-A",
        "colab": {
          "base_uri": "https://localhost:8080/",
          "height": 1000
        },
        "outputId": "e68d4dcc-d316-466e-a0dd-605d96e47f3e"
      },
      "outputs": [
        {
          "output_type": "stream",
          "name": "stdout",
          "text": [
            "{'RUR', nan, 'EUR', 'USD'}\n"
          ]
        },
        {
          "output_type": "execute_result",
          "data": {
            "text/plain": [
              "                                                vacancy  \\\n",
              "19                             Python Software Engineer   \n",
              "123           Senior Python Back-end Developer (Remote)   \n",
              "142             Python Developer (Люксембург, удаленно)   \n",
              "145           Senior Python Back-end Developer (Remote)   \n",
              "175          Python Developer (Team Lead/Senior Python)   \n",
              "191                                    Python Developer   \n",
              "371                     Web-разработчик (React, Python)   \n",
              "386                             Senior Python Developer   \n",
              "427                                    Python Developer   \n",
              "435                             Senior Python Developer   \n",
              "437                  Senior Python Developer (удаленно)   \n",
              "465                 Senior Backend-разработчик (Python)   \n",
              "478                      Lead Python Developer (remote)   \n",
              "558   Разработчик автоматических тестов GUI (Python,...   \n",
              "601   Middle/Middle+ Python developer (Django/удален...   \n",
              "685                    Python Backend Engineer (remote)   \n",
              "694                    Python Backend Engineer (remote)   \n",
              "730                    Python Backend Engineer (remote)   \n",
              "859                  Machine Learning Engineer (Python)   \n",
              "900                   Fullstack-developer (Python + JS)   \n",
              "1077                  Senior Software Engineer (Python)   \n",
              "1216                                   Python developer   \n",
              "1306                         Fullstack Python Developer   \n",
              "1312                    Web-разработчик (React, Python)   \n",
              "1446                   Python Backend Engineer (remote)   \n",
              "1453                                   Python Developer   \n",
              "1470                    Senior Python Backend Developer   \n",
              "1512           Senior Python Developer (Кипр, Лимассол)   \n",
              "1627      Python back-end разработчик (Junior - Middle)   \n",
              "\n",
              "                                                    url  \\\n",
              "19    https://hh.ru/applicant/vacancy_response?vacan...   \n",
              "123   https://hh.ru/applicant/vacancy_response?vacan...   \n",
              "142   https://hh.ru/applicant/vacancy_response?vacan...   \n",
              "145   https://hh.ru/applicant/vacancy_response?vacan...   \n",
              "175   https://hh.ru/applicant/vacancy_response?vacan...   \n",
              "191   https://hh.ru/applicant/vacancy_response?vacan...   \n",
              "371   https://hh.ru/applicant/vacancy_response?vacan...   \n",
              "386   https://hh.ru/applicant/vacancy_response?vacan...   \n",
              "427   https://hh.ru/applicant/vacancy_response?vacan...   \n",
              "435   https://hh.ru/applicant/vacancy_response?vacan...   \n",
              "437   https://hh.ru/applicant/vacancy_response?vacan...   \n",
              "465   https://hh.ru/applicant/vacancy_response?vacan...   \n",
              "478   https://hh.ru/applicant/vacancy_response?vacan...   \n",
              "558   https://hh.ru/applicant/vacancy_response?vacan...   \n",
              "601   https://hh.ru/applicant/vacancy_response?vacan...   \n",
              "685   https://hh.ru/applicant/vacancy_response?vacan...   \n",
              "694   https://hh.ru/applicant/vacancy_response?vacan...   \n",
              "730   https://hh.ru/applicant/vacancy_response?vacan...   \n",
              "859   https://hh.ru/applicant/vacancy_response?vacan...   \n",
              "900   https://hh.ru/applicant/vacancy_response?vacan...   \n",
              "1077  https://hh.ru/applicant/vacancy_response?vacan...   \n",
              "1216  https://hh.ru/applicant/vacancy_response?vacan...   \n",
              "1306  https://hh.ru/applicant/vacancy_response?vacan...   \n",
              "1312  https://hh.ru/applicant/vacancy_response?vacan...   \n",
              "1446  https://hh.ru/applicant/vacancy_response?vacan...   \n",
              "1453  https://hh.ru/applicant/vacancy_response?vacan...   \n",
              "1470  https://hh.ru/applicant/vacancy_response?vacan...   \n",
              "1512  https://hh.ru/applicant/vacancy_response?vacan...   \n",
              "1627  https://hh.ru/applicant/vacancy_response?vacan...   \n",
              "\n",
              "                       created  has_test  salary_from  salary_to currency  \\\n",
              "19    2021-07-07T20:12:42+0300     False       3400.0        NaN      EUR   \n",
              "123   2021-07-30T17:20:15+0300     False          NaN     3500.0      EUR   \n",
              "142   2021-07-30T13:09:00+0300     False          NaN     3500.0      USD   \n",
              "145   2021-07-30T17:20:15+0300     False          NaN     3500.0      EUR   \n",
              "175   2021-07-31T15:44:36+0300     False       3500.0     6500.0      USD   \n",
              "191   2021-08-02T13:47:59+0300     False       4000.0     6000.0      USD   \n",
              "371   2021-08-01T14:32:08+0300     False        800.0     3000.0      USD   \n",
              "386   2021-08-03T10:45:14+0300     False       3000.0     5000.0      USD   \n",
              "427   2021-07-31T16:11:46+0300     False       2000.0        NaN      EUR   \n",
              "435   2021-08-03T12:27:16+0300     False       3200.0     4200.0      USD   \n",
              "437   2021-08-02T15:34:31+0300     False       2500.0     4000.0      EUR   \n",
              "465   2021-08-02T14:44:17+0300     False          NaN     4500.0      USD   \n",
              "478   2021-07-31T17:07:02+0300     False       3500.0     5500.0      EUR   \n",
              "558   2021-07-31T20:07:28+0300     False       3000.0        NaN      USD   \n",
              "601   2021-07-08T11:18:31+0300     False          NaN     4500.0      EUR   \n",
              "685   2021-07-24T01:35:28+0300     False          NaN     3500.0      EUR   \n",
              "694   2021-07-24T01:35:28+0300     False          NaN     3500.0      EUR   \n",
              "730   2021-07-24T01:35:28+0300     False          NaN     3500.0      EUR   \n",
              "859   2021-08-02T09:24:38+0300     False       3000.0     5000.0      USD   \n",
              "900   2021-07-20T11:45:08+0300     False       2500.0     3500.0      USD   \n",
              "1077  2021-07-28T17:32:21+0300     False       6500.0        NaN      USD   \n",
              "1216  2021-07-27T10:53:41+0300     False       1800.0        NaN      EUR   \n",
              "1306  2021-08-02T13:45:48+0300     False       2500.0     3000.0      EUR   \n",
              "1312  2021-08-01T14:32:11+0300     False        800.0     3000.0      USD   \n",
              "1446  2021-07-24T01:35:28+0300     False          NaN     3500.0      EUR   \n",
              "1453  2021-07-21T10:07:09+0300     False       3500.0     4000.0      USD   \n",
              "1470  2021-08-02T19:19:16+0300     False       3000.0        NaN      USD   \n",
              "1512  2021-07-29T13:38:48+0300     False          NaN     3300.0      EUR   \n",
              "1627  2021-07-24T12:05:55+0300     False       1500.0        NaN      USD   \n",
              "\n",
              "              experience          schedule  \\\n",
              "19    От 1 года до 3 лет       Полный день   \n",
              "123            Нет опыта  Удаленная работа   \n",
              "142        От 3 до 6 лет  Удаленная работа   \n",
              "145            Нет опыта  Удаленная работа   \n",
              "175          Более 6 лет       Полный день   \n",
              "191        От 3 до 6 лет  Удаленная работа   \n",
              "371   От 1 года до 3 лет       Полный день   \n",
              "386        От 3 до 6 лет  Удаленная работа   \n",
              "427   От 1 года до 3 лет     Гибкий график   \n",
              "435          Более 6 лет  Удаленная работа   \n",
              "437        От 3 до 6 лет  Удаленная работа   \n",
              "465        От 3 до 6 лет  Удаленная работа   \n",
              "478          Более 6 лет       Полный день   \n",
              "558        От 3 до 6 лет       Полный день   \n",
              "601        От 3 до 6 лет  Удаленная работа   \n",
              "685   От 1 года до 3 лет  Удаленная работа   \n",
              "694   От 1 года до 3 лет  Удаленная работа   \n",
              "730   От 1 года до 3 лет  Удаленная работа   \n",
              "859   От 1 года до 3 лет  Удаленная работа   \n",
              "900        От 3 до 6 лет  Удаленная работа   \n",
              "1077         Более 6 лет  Удаленная работа   \n",
              "1216  От 1 года до 3 лет  Удаленная работа   \n",
              "1306           Нет опыта  Удаленная работа   \n",
              "1312  От 1 года до 3 лет       Полный день   \n",
              "1446  От 1 года до 3 лет  Удаленная работа   \n",
              "1453  От 1 года до 3 лет  Удаленная работа   \n",
              "1470       От 3 до 6 лет     Гибкий график   \n",
              "1512       От 3 до 6 лет       Полный день   \n",
              "1627           Нет опыта  Удаленная работа   \n",
              "\n",
              "                                                 skills  \\\n",
              "19          Python;PostgreSQL;SQL;Linux;Docker;asyncio;   \n",
              "123     Python;MySQL;Redis;MongoDB;asyncio;aiohttp;k8s;   \n",
              "142                                             Python;   \n",
              "145     Python;MySQL;Redis;MongoDB;asyncio;aiohttp;k8s;   \n",
              "175       Python;PostgreSQL;Английский язык;Docker;Git;   \n",
              "191    Python;Django Framework;Git;SQL;PostgreSQL;REST;   \n",
              "371                            JavaScript;React;Python;   \n",
              "386           AWS;Python;Docker;Kubernetes;Linux;CI/CD;   \n",
              "427                        Python;Software Development;   \n",
              "435   Redis;Elastic Search;MongoDB;MySQL;Python;Djan...   \n",
              "437                                             Python;   \n",
              "465        Django Framework;Английский язык;SQL;Python;   \n",
              "478                                                 NaN   \n",
              "558                                                 NaN   \n",
              "601   Python;Django Framework;SQL;Redis;Django;Rabbi...   \n",
              "685         Python;MySQL;Redis;MongoDB;asyncio;aiohttp;   \n",
              "694         Python;MySQL;Redis;MongoDB;asyncio;aiohttp;   \n",
              "730         Python;MySQL;Redis;MongoDB;asyncio;aiohttp;   \n",
              "859   Английский язык;Docker;Spark;Kafka;Kubernetes;...   \n",
              "900                 Django Framework;JavaScript;Python;   \n",
              "1077  Git;Linux;Английский язык;Apache Spark;Python;...   \n",
              "1216                                                NaN   \n",
              "1306  PostgreSQL;Python;Django Framework;Git;Английс...   \n",
              "1312                           JavaScript;React;Python;   \n",
              "1446        Python;MySQL;Redis;MongoDB;asyncio;aiohttp;   \n",
              "1453    Python;Django Framework;HTML5;MongoDB;Git;CSS3;   \n",
              "1470  Python;Django Framework;Git;PostgreSQL;MySQL;N...   \n",
              "1512                                            Python;   \n",
              "1627  Git;Django Framework;Python;Linux;ООП;SQL;API;...   \n",
              "\n",
              "                                   employer             area  \\\n",
              "19                                   Exness           Москва   \n",
              "123                               AppFollow  Санкт-Петербург   \n",
              "142   Кадровое агентство Алексея Сухорукова      Новосибирск   \n",
              "145                               AppFollow           Москва   \n",
              "175                              Octra Inc.           Москва   \n",
              "191                       Top Remote Talent           Москва   \n",
              "371                                  BeeJee  Санкт-Петербург   \n",
              "386                       Top Remote Talent           Москва   \n",
              "427                             OpenWeather           Москва   \n",
              "435                                 Incorra  Санкт-Петербург   \n",
              "437   Кадровое агентство Алексея Сухорукова      Новосибирск   \n",
              "465                                 Hoodies           Москва   \n",
              "478                        Reinvent Baltics  Санкт-Петербург   \n",
              "558                            NetworkOptix           Москва   \n",
              "601                             Cellar door  Санкт-Петербург   \n",
              "685                               AppFollow     Екатеринбург   \n",
              "694                               AppFollow  Санкт-Петербург   \n",
              "730                               AppFollow  Нижний Новгород   \n",
              "859                                Starnavi  Санкт-Петербург   \n",
              "900                             BrainShells           Москва   \n",
              "1077               Дартс рекрутинг сервисез  Санкт-Петербург   \n",
              "1216                           GamesBoost42           Москва   \n",
              "1306                                 EXANTE           Москва   \n",
              "1312                                 BeeJee           Москва   \n",
              "1446                              AppFollow           Москва   \n",
              "1453                           IT_Selection           Москва   \n",
              "1470                         App in the Air           Москва   \n",
              "1512  Кадровое агентство Алексея Сухорукова      Новосибирск   \n",
              "1627                                  SFERA           Москва   \n",
              "\n",
              "                                            description  \n",
              "19    Кто мы? Мы финтех компания, разрабатывающая B2...  \n",
              "123   AppFollow - это платформа для мониторинга прил...  \n",
              "142   IT-компания, которая предоставляет своим клиен...  \n",
              "145   AppFollow - это платформа для мониторинга прил...  \n",
              "175   Привет, это команда Octra!Мы ищем опытного bac...  \n",
              "191   A Dubai based startup in the PropTech industry...  \n",
              "371   Middle: 800$-1500$, Senior: 1500$-3000$ BeeJee...  \n",
              "386   A software development studio based in Israel ...  \n",
              "427   We are OpenWeather: high-growth, energetic and...  \n",
              "435   Overview The USA-based startup is looking for ...  \n",
              "437   Крупная компания, разрабатывающая уникальную м...  \n",
              "465   Друзья, привет. Нам в команду Hoodies нужен se...  \n",
              "478   Reinvent Baltics — международная продуктовая к...  \n",
              "558   Network Optix - американская компания, основан...  \n",
              "601   Мы ищем Middle+ Python разработчика (Django) д...  \n",
              "685   AppFollow - это платформа для мониторинга прил...  \n",
              "694   AppFollow - это платформа для мониторинга прил...  \n",
              "730   AppFollow - это платформа для мониторинга прил...  \n",
              "859   StarNavi is looking for a Software Infrastruct...  \n",
              "900   Сейчас мы находимся в поиске разработчика, жел...  \n",
              "1077  Нашему партнёру, одному из ведущих маркетингов...  \n",
              "1216  Привет! Мы - холдинговая компания, основные на...  \n",
              "1306  EXANTE — международная компания, которая заним...  \n",
              "1312  Middle: 800$-1500$, Senior: 1500$-3000$ BeeJee...  \n",
              "1446  AppFollow - это платформа для мониторинга прил...  \n",
              "1453  Уважаемые соискатели, наш клиент, молодая кали...  \n",
              "1470  Кто мы? App in the Air — российский стартап, в...  \n",
              "1512  Крупная финтех компания, работающая на междуна...  \n",
              "1627  В продуктовую разработку требуется Back-end ра...  "
            ],
            "text/html": [
              "\n",
              "  <div id=\"df-e25475f1-c4a2-43bb-8ec5-b6ace596eaf4\" class=\"colab-df-container\">\n",
              "    <div>\n",
              "<style scoped>\n",
              "    .dataframe tbody tr th:only-of-type {\n",
              "        vertical-align: middle;\n",
              "    }\n",
              "\n",
              "    .dataframe tbody tr th {\n",
              "        vertical-align: top;\n",
              "    }\n",
              "\n",
              "    .dataframe thead th {\n",
              "        text-align: right;\n",
              "    }\n",
              "</style>\n",
              "<table border=\"1\" class=\"dataframe\">\n",
              "  <thead>\n",
              "    <tr style=\"text-align: right;\">\n",
              "      <th></th>\n",
              "      <th>vacancy</th>\n",
              "      <th>url</th>\n",
              "      <th>created</th>\n",
              "      <th>has_test</th>\n",
              "      <th>salary_from</th>\n",
              "      <th>salary_to</th>\n",
              "      <th>currency</th>\n",
              "      <th>experience</th>\n",
              "      <th>schedule</th>\n",
              "      <th>skills</th>\n",
              "      <th>employer</th>\n",
              "      <th>area</th>\n",
              "      <th>description</th>\n",
              "    </tr>\n",
              "  </thead>\n",
              "  <tbody>\n",
              "    <tr>\n",
              "      <th>19</th>\n",
              "      <td>Python Software Engineer</td>\n",
              "      <td>https://hh.ru/applicant/vacancy_response?vacan...</td>\n",
              "      <td>2021-07-07T20:12:42+0300</td>\n",
              "      <td>False</td>\n",
              "      <td>3400.0</td>\n",
              "      <td>NaN</td>\n",
              "      <td>EUR</td>\n",
              "      <td>От 1 года до 3 лет</td>\n",
              "      <td>Полный день</td>\n",
              "      <td>Python;PostgreSQL;SQL;Linux;Docker;asyncio;</td>\n",
              "      <td>Exness</td>\n",
              "      <td>Москва</td>\n",
              "      <td>Кто мы? Мы финтех компания, разрабатывающая B2...</td>\n",
              "    </tr>\n",
              "    <tr>\n",
              "      <th>123</th>\n",
              "      <td>Senior Python Back-end Developer (Remote)</td>\n",
              "      <td>https://hh.ru/applicant/vacancy_response?vacan...</td>\n",
              "      <td>2021-07-30T17:20:15+0300</td>\n",
              "      <td>False</td>\n",
              "      <td>NaN</td>\n",
              "      <td>3500.0</td>\n",
              "      <td>EUR</td>\n",
              "      <td>Нет опыта</td>\n",
              "      <td>Удаленная работа</td>\n",
              "      <td>Python;MySQL;Redis;MongoDB;asyncio;aiohttp;k8s;</td>\n",
              "      <td>AppFollow</td>\n",
              "      <td>Санкт-Петербург</td>\n",
              "      <td>AppFollow - это платформа для мониторинга прил...</td>\n",
              "    </tr>\n",
              "    <tr>\n",
              "      <th>142</th>\n",
              "      <td>Python Developer (Люксембург, удаленно)</td>\n",
              "      <td>https://hh.ru/applicant/vacancy_response?vacan...</td>\n",
              "      <td>2021-07-30T13:09:00+0300</td>\n",
              "      <td>False</td>\n",
              "      <td>NaN</td>\n",
              "      <td>3500.0</td>\n",
              "      <td>USD</td>\n",
              "      <td>От 3 до 6 лет</td>\n",
              "      <td>Удаленная работа</td>\n",
              "      <td>Python;</td>\n",
              "      <td>Кадровое агентство Алексея Сухорукова</td>\n",
              "      <td>Новосибирск</td>\n",
              "      <td>IT-компания, которая предоставляет своим клиен...</td>\n",
              "    </tr>\n",
              "    <tr>\n",
              "      <th>145</th>\n",
              "      <td>Senior Python Back-end Developer (Remote)</td>\n",
              "      <td>https://hh.ru/applicant/vacancy_response?vacan...</td>\n",
              "      <td>2021-07-30T17:20:15+0300</td>\n",
              "      <td>False</td>\n",
              "      <td>NaN</td>\n",
              "      <td>3500.0</td>\n",
              "      <td>EUR</td>\n",
              "      <td>Нет опыта</td>\n",
              "      <td>Удаленная работа</td>\n",
              "      <td>Python;MySQL;Redis;MongoDB;asyncio;aiohttp;k8s;</td>\n",
              "      <td>AppFollow</td>\n",
              "      <td>Москва</td>\n",
              "      <td>AppFollow - это платформа для мониторинга прил...</td>\n",
              "    </tr>\n",
              "    <tr>\n",
              "      <th>175</th>\n",
              "      <td>Python Developer (Team Lead/Senior Python)</td>\n",
              "      <td>https://hh.ru/applicant/vacancy_response?vacan...</td>\n",
              "      <td>2021-07-31T15:44:36+0300</td>\n",
              "      <td>False</td>\n",
              "      <td>3500.0</td>\n",
              "      <td>6500.0</td>\n",
              "      <td>USD</td>\n",
              "      <td>Более 6 лет</td>\n",
              "      <td>Полный день</td>\n",
              "      <td>Python;PostgreSQL;Английский язык;Docker;Git;</td>\n",
              "      <td>Octra Inc.</td>\n",
              "      <td>Москва</td>\n",
              "      <td>Привет, это команда Octra!Мы ищем опытного bac...</td>\n",
              "    </tr>\n",
              "    <tr>\n",
              "      <th>191</th>\n",
              "      <td>Python Developer</td>\n",
              "      <td>https://hh.ru/applicant/vacancy_response?vacan...</td>\n",
              "      <td>2021-08-02T13:47:59+0300</td>\n",
              "      <td>False</td>\n",
              "      <td>4000.0</td>\n",
              "      <td>6000.0</td>\n",
              "      <td>USD</td>\n",
              "      <td>От 3 до 6 лет</td>\n",
              "      <td>Удаленная работа</td>\n",
              "      <td>Python;Django Framework;Git;SQL;PostgreSQL;REST;</td>\n",
              "      <td>Top Remote Talent</td>\n",
              "      <td>Москва</td>\n",
              "      <td>A Dubai based startup in the PropTech industry...</td>\n",
              "    </tr>\n",
              "    <tr>\n",
              "      <th>371</th>\n",
              "      <td>Web-разработчик (React, Python)</td>\n",
              "      <td>https://hh.ru/applicant/vacancy_response?vacan...</td>\n",
              "      <td>2021-08-01T14:32:08+0300</td>\n",
              "      <td>False</td>\n",
              "      <td>800.0</td>\n",
              "      <td>3000.0</td>\n",
              "      <td>USD</td>\n",
              "      <td>От 1 года до 3 лет</td>\n",
              "      <td>Полный день</td>\n",
              "      <td>JavaScript;React;Python;</td>\n",
              "      <td>BeeJee</td>\n",
              "      <td>Санкт-Петербург</td>\n",
              "      <td>Middle: 800$-1500$, Senior: 1500$-3000$ BeeJee...</td>\n",
              "    </tr>\n",
              "    <tr>\n",
              "      <th>386</th>\n",
              "      <td>Senior Python Developer</td>\n",
              "      <td>https://hh.ru/applicant/vacancy_response?vacan...</td>\n",
              "      <td>2021-08-03T10:45:14+0300</td>\n",
              "      <td>False</td>\n",
              "      <td>3000.0</td>\n",
              "      <td>5000.0</td>\n",
              "      <td>USD</td>\n",
              "      <td>От 3 до 6 лет</td>\n",
              "      <td>Удаленная работа</td>\n",
              "      <td>AWS;Python;Docker;Kubernetes;Linux;CI/CD;</td>\n",
              "      <td>Top Remote Talent</td>\n",
              "      <td>Москва</td>\n",
              "      <td>A software development studio based in Israel ...</td>\n",
              "    </tr>\n",
              "    <tr>\n",
              "      <th>427</th>\n",
              "      <td>Python Developer</td>\n",
              "      <td>https://hh.ru/applicant/vacancy_response?vacan...</td>\n",
              "      <td>2021-07-31T16:11:46+0300</td>\n",
              "      <td>False</td>\n",
              "      <td>2000.0</td>\n",
              "      <td>NaN</td>\n",
              "      <td>EUR</td>\n",
              "      <td>От 1 года до 3 лет</td>\n",
              "      <td>Гибкий график</td>\n",
              "      <td>Python;Software Development;</td>\n",
              "      <td>OpenWeather</td>\n",
              "      <td>Москва</td>\n",
              "      <td>We are OpenWeather: high-growth, energetic and...</td>\n",
              "    </tr>\n",
              "    <tr>\n",
              "      <th>435</th>\n",
              "      <td>Senior Python Developer</td>\n",
              "      <td>https://hh.ru/applicant/vacancy_response?vacan...</td>\n",
              "      <td>2021-08-03T12:27:16+0300</td>\n",
              "      <td>False</td>\n",
              "      <td>3200.0</td>\n",
              "      <td>4200.0</td>\n",
              "      <td>USD</td>\n",
              "      <td>Более 6 лет</td>\n",
              "      <td>Удаленная работа</td>\n",
              "      <td>Redis;Elastic Search;MongoDB;MySQL;Python;Djan...</td>\n",
              "      <td>Incorra</td>\n",
              "      <td>Санкт-Петербург</td>\n",
              "      <td>Overview The USA-based startup is looking for ...</td>\n",
              "    </tr>\n",
              "    <tr>\n",
              "      <th>437</th>\n",
              "      <td>Senior Python Developer (удаленно)</td>\n",
              "      <td>https://hh.ru/applicant/vacancy_response?vacan...</td>\n",
              "      <td>2021-08-02T15:34:31+0300</td>\n",
              "      <td>False</td>\n",
              "      <td>2500.0</td>\n",
              "      <td>4000.0</td>\n",
              "      <td>EUR</td>\n",
              "      <td>От 3 до 6 лет</td>\n",
              "      <td>Удаленная работа</td>\n",
              "      <td>Python;</td>\n",
              "      <td>Кадровое агентство Алексея Сухорукова</td>\n",
              "      <td>Новосибирск</td>\n",
              "      <td>Крупная компания, разрабатывающая уникальную м...</td>\n",
              "    </tr>\n",
              "    <tr>\n",
              "      <th>465</th>\n",
              "      <td>Senior Backend-разработчик (Python)</td>\n",
              "      <td>https://hh.ru/applicant/vacancy_response?vacan...</td>\n",
              "      <td>2021-08-02T14:44:17+0300</td>\n",
              "      <td>False</td>\n",
              "      <td>NaN</td>\n",
              "      <td>4500.0</td>\n",
              "      <td>USD</td>\n",
              "      <td>От 3 до 6 лет</td>\n",
              "      <td>Удаленная работа</td>\n",
              "      <td>Django Framework;Английский язык;SQL;Python;</td>\n",
              "      <td>Hoodies</td>\n",
              "      <td>Москва</td>\n",
              "      <td>Друзья, привет. Нам в команду Hoodies нужен se...</td>\n",
              "    </tr>\n",
              "    <tr>\n",
              "      <th>478</th>\n",
              "      <td>Lead Python Developer (remote)</td>\n",
              "      <td>https://hh.ru/applicant/vacancy_response?vacan...</td>\n",
              "      <td>2021-07-31T17:07:02+0300</td>\n",
              "      <td>False</td>\n",
              "      <td>3500.0</td>\n",
              "      <td>5500.0</td>\n",
              "      <td>EUR</td>\n",
              "      <td>Более 6 лет</td>\n",
              "      <td>Полный день</td>\n",
              "      <td>NaN</td>\n",
              "      <td>Reinvent Baltics</td>\n",
              "      <td>Санкт-Петербург</td>\n",
              "      <td>Reinvent Baltics — международная продуктовая к...</td>\n",
              "    </tr>\n",
              "    <tr>\n",
              "      <th>558</th>\n",
              "      <td>Разработчик автоматических тестов GUI (Python,...</td>\n",
              "      <td>https://hh.ru/applicant/vacancy_response?vacan...</td>\n",
              "      <td>2021-07-31T20:07:28+0300</td>\n",
              "      <td>False</td>\n",
              "      <td>3000.0</td>\n",
              "      <td>NaN</td>\n",
              "      <td>USD</td>\n",
              "      <td>От 3 до 6 лет</td>\n",
              "      <td>Полный день</td>\n",
              "      <td>NaN</td>\n",
              "      <td>NetworkOptix</td>\n",
              "      <td>Москва</td>\n",
              "      <td>Network Optix - американская компания, основан...</td>\n",
              "    </tr>\n",
              "    <tr>\n",
              "      <th>601</th>\n",
              "      <td>Middle/Middle+ Python developer (Django/удален...</td>\n",
              "      <td>https://hh.ru/applicant/vacancy_response?vacan...</td>\n",
              "      <td>2021-07-08T11:18:31+0300</td>\n",
              "      <td>False</td>\n",
              "      <td>NaN</td>\n",
              "      <td>4500.0</td>\n",
              "      <td>EUR</td>\n",
              "      <td>От 3 до 6 лет</td>\n",
              "      <td>Удаленная работа</td>\n",
              "      <td>Python;Django Framework;SQL;Redis;Django;Rabbi...</td>\n",
              "      <td>Cellar door</td>\n",
              "      <td>Санкт-Петербург</td>\n",
              "      <td>Мы ищем Middle+ Python разработчика (Django) д...</td>\n",
              "    </tr>\n",
              "    <tr>\n",
              "      <th>685</th>\n",
              "      <td>Python Backend Engineer (remote)</td>\n",
              "      <td>https://hh.ru/applicant/vacancy_response?vacan...</td>\n",
              "      <td>2021-07-24T01:35:28+0300</td>\n",
              "      <td>False</td>\n",
              "      <td>NaN</td>\n",
              "      <td>3500.0</td>\n",
              "      <td>EUR</td>\n",
              "      <td>От 1 года до 3 лет</td>\n",
              "      <td>Удаленная работа</td>\n",
              "      <td>Python;MySQL;Redis;MongoDB;asyncio;aiohttp;</td>\n",
              "      <td>AppFollow</td>\n",
              "      <td>Екатеринбург</td>\n",
              "      <td>AppFollow - это платформа для мониторинга прил...</td>\n",
              "    </tr>\n",
              "    <tr>\n",
              "      <th>694</th>\n",
              "      <td>Python Backend Engineer (remote)</td>\n",
              "      <td>https://hh.ru/applicant/vacancy_response?vacan...</td>\n",
              "      <td>2021-07-24T01:35:28+0300</td>\n",
              "      <td>False</td>\n",
              "      <td>NaN</td>\n",
              "      <td>3500.0</td>\n",
              "      <td>EUR</td>\n",
              "      <td>От 1 года до 3 лет</td>\n",
              "      <td>Удаленная работа</td>\n",
              "      <td>Python;MySQL;Redis;MongoDB;asyncio;aiohttp;</td>\n",
              "      <td>AppFollow</td>\n",
              "      <td>Санкт-Петербург</td>\n",
              "      <td>AppFollow - это платформа для мониторинга прил...</td>\n",
              "    </tr>\n",
              "    <tr>\n",
              "      <th>730</th>\n",
              "      <td>Python Backend Engineer (remote)</td>\n",
              "      <td>https://hh.ru/applicant/vacancy_response?vacan...</td>\n",
              "      <td>2021-07-24T01:35:28+0300</td>\n",
              "      <td>False</td>\n",
              "      <td>NaN</td>\n",
              "      <td>3500.0</td>\n",
              "      <td>EUR</td>\n",
              "      <td>От 1 года до 3 лет</td>\n",
              "      <td>Удаленная работа</td>\n",
              "      <td>Python;MySQL;Redis;MongoDB;asyncio;aiohttp;</td>\n",
              "      <td>AppFollow</td>\n",
              "      <td>Нижний Новгород</td>\n",
              "      <td>AppFollow - это платформа для мониторинга прил...</td>\n",
              "    </tr>\n",
              "    <tr>\n",
              "      <th>859</th>\n",
              "      <td>Machine Learning Engineer (Python)</td>\n",
              "      <td>https://hh.ru/applicant/vacancy_response?vacan...</td>\n",
              "      <td>2021-08-02T09:24:38+0300</td>\n",
              "      <td>False</td>\n",
              "      <td>3000.0</td>\n",
              "      <td>5000.0</td>\n",
              "      <td>USD</td>\n",
              "      <td>От 1 года до 3 лет</td>\n",
              "      <td>Удаленная работа</td>\n",
              "      <td>Английский язык;Docker;Spark;Kafka;Kubernetes;...</td>\n",
              "      <td>Starnavi</td>\n",
              "      <td>Санкт-Петербург</td>\n",
              "      <td>StarNavi is looking for a Software Infrastruct...</td>\n",
              "    </tr>\n",
              "    <tr>\n",
              "      <th>900</th>\n",
              "      <td>Fullstack-developer (Python + JS)</td>\n",
              "      <td>https://hh.ru/applicant/vacancy_response?vacan...</td>\n",
              "      <td>2021-07-20T11:45:08+0300</td>\n",
              "      <td>False</td>\n",
              "      <td>2500.0</td>\n",
              "      <td>3500.0</td>\n",
              "      <td>USD</td>\n",
              "      <td>От 3 до 6 лет</td>\n",
              "      <td>Удаленная работа</td>\n",
              "      <td>Django Framework;JavaScript;Python;</td>\n",
              "      <td>BrainShells</td>\n",
              "      <td>Москва</td>\n",
              "      <td>Сейчас мы находимся в поиске разработчика, жел...</td>\n",
              "    </tr>\n",
              "    <tr>\n",
              "      <th>1077</th>\n",
              "      <td>Senior Software Engineer (Python)</td>\n",
              "      <td>https://hh.ru/applicant/vacancy_response?vacan...</td>\n",
              "      <td>2021-07-28T17:32:21+0300</td>\n",
              "      <td>False</td>\n",
              "      <td>6500.0</td>\n",
              "      <td>NaN</td>\n",
              "      <td>USD</td>\n",
              "      <td>Более 6 лет</td>\n",
              "      <td>Удаленная работа</td>\n",
              "      <td>Git;Linux;Английский язык;Apache Spark;Python;...</td>\n",
              "      <td>Дартс рекрутинг сервисез</td>\n",
              "      <td>Санкт-Петербург</td>\n",
              "      <td>Нашему партнёру, одному из ведущих маркетингов...</td>\n",
              "    </tr>\n",
              "    <tr>\n",
              "      <th>1216</th>\n",
              "      <td>Python developer</td>\n",
              "      <td>https://hh.ru/applicant/vacancy_response?vacan...</td>\n",
              "      <td>2021-07-27T10:53:41+0300</td>\n",
              "      <td>False</td>\n",
              "      <td>1800.0</td>\n",
              "      <td>NaN</td>\n",
              "      <td>EUR</td>\n",
              "      <td>От 1 года до 3 лет</td>\n",
              "      <td>Удаленная работа</td>\n",
              "      <td>NaN</td>\n",
              "      <td>GamesBoost42</td>\n",
              "      <td>Москва</td>\n",
              "      <td>Привет! Мы - холдинговая компания, основные на...</td>\n",
              "    </tr>\n",
              "    <tr>\n",
              "      <th>1306</th>\n",
              "      <td>Fullstack Python Developer</td>\n",
              "      <td>https://hh.ru/applicant/vacancy_response?vacan...</td>\n",
              "      <td>2021-08-02T13:45:48+0300</td>\n",
              "      <td>False</td>\n",
              "      <td>2500.0</td>\n",
              "      <td>3000.0</td>\n",
              "      <td>EUR</td>\n",
              "      <td>Нет опыта</td>\n",
              "      <td>Удаленная работа</td>\n",
              "      <td>PostgreSQL;Python;Django Framework;Git;Английс...</td>\n",
              "      <td>EXANTE</td>\n",
              "      <td>Москва</td>\n",
              "      <td>EXANTE — международная компания, которая заним...</td>\n",
              "    </tr>\n",
              "    <tr>\n",
              "      <th>1312</th>\n",
              "      <td>Web-разработчик (React, Python)</td>\n",
              "      <td>https://hh.ru/applicant/vacancy_response?vacan...</td>\n",
              "      <td>2021-08-01T14:32:11+0300</td>\n",
              "      <td>False</td>\n",
              "      <td>800.0</td>\n",
              "      <td>3000.0</td>\n",
              "      <td>USD</td>\n",
              "      <td>От 1 года до 3 лет</td>\n",
              "      <td>Полный день</td>\n",
              "      <td>JavaScript;React;Python;</td>\n",
              "      <td>BeeJee</td>\n",
              "      <td>Москва</td>\n",
              "      <td>Middle: 800$-1500$, Senior: 1500$-3000$ BeeJee...</td>\n",
              "    </tr>\n",
              "    <tr>\n",
              "      <th>1446</th>\n",
              "      <td>Python Backend Engineer (remote)</td>\n",
              "      <td>https://hh.ru/applicant/vacancy_response?vacan...</td>\n",
              "      <td>2021-07-24T01:35:28+0300</td>\n",
              "      <td>False</td>\n",
              "      <td>NaN</td>\n",
              "      <td>3500.0</td>\n",
              "      <td>EUR</td>\n",
              "      <td>От 1 года до 3 лет</td>\n",
              "      <td>Удаленная работа</td>\n",
              "      <td>Python;MySQL;Redis;MongoDB;asyncio;aiohttp;</td>\n",
              "      <td>AppFollow</td>\n",
              "      <td>Москва</td>\n",
              "      <td>AppFollow - это платформа для мониторинга прил...</td>\n",
              "    </tr>\n",
              "    <tr>\n",
              "      <th>1453</th>\n",
              "      <td>Python Developer</td>\n",
              "      <td>https://hh.ru/applicant/vacancy_response?vacan...</td>\n",
              "      <td>2021-07-21T10:07:09+0300</td>\n",
              "      <td>False</td>\n",
              "      <td>3500.0</td>\n",
              "      <td>4000.0</td>\n",
              "      <td>USD</td>\n",
              "      <td>От 1 года до 3 лет</td>\n",
              "      <td>Удаленная работа</td>\n",
              "      <td>Python;Django Framework;HTML5;MongoDB;Git;CSS3;</td>\n",
              "      <td>IT_Selection</td>\n",
              "      <td>Москва</td>\n",
              "      <td>Уважаемые соискатели, наш клиент, молодая кали...</td>\n",
              "    </tr>\n",
              "    <tr>\n",
              "      <th>1470</th>\n",
              "      <td>Senior Python Backend Developer</td>\n",
              "      <td>https://hh.ru/applicant/vacancy_response?vacan...</td>\n",
              "      <td>2021-08-02T19:19:16+0300</td>\n",
              "      <td>False</td>\n",
              "      <td>3000.0</td>\n",
              "      <td>NaN</td>\n",
              "      <td>USD</td>\n",
              "      <td>От 3 до 6 лет</td>\n",
              "      <td>Гибкий график</td>\n",
              "      <td>Python;Django Framework;Git;PostgreSQL;MySQL;N...</td>\n",
              "      <td>App in the Air</td>\n",
              "      <td>Москва</td>\n",
              "      <td>Кто мы? App in the Air — российский стартап, в...</td>\n",
              "    </tr>\n",
              "    <tr>\n",
              "      <th>1512</th>\n",
              "      <td>Senior Python Developer (Кипр, Лимассол)</td>\n",
              "      <td>https://hh.ru/applicant/vacancy_response?vacan...</td>\n",
              "      <td>2021-07-29T13:38:48+0300</td>\n",
              "      <td>False</td>\n",
              "      <td>NaN</td>\n",
              "      <td>3300.0</td>\n",
              "      <td>EUR</td>\n",
              "      <td>От 3 до 6 лет</td>\n",
              "      <td>Полный день</td>\n",
              "      <td>Python;</td>\n",
              "      <td>Кадровое агентство Алексея Сухорукова</td>\n",
              "      <td>Новосибирск</td>\n",
              "      <td>Крупная финтех компания, работающая на междуна...</td>\n",
              "    </tr>\n",
              "    <tr>\n",
              "      <th>1627</th>\n",
              "      <td>Python back-end разработчик (Junior - Middle)</td>\n",
              "      <td>https://hh.ru/applicant/vacancy_response?vacan...</td>\n",
              "      <td>2021-07-24T12:05:55+0300</td>\n",
              "      <td>False</td>\n",
              "      <td>1500.0</td>\n",
              "      <td>NaN</td>\n",
              "      <td>USD</td>\n",
              "      <td>Нет опыта</td>\n",
              "      <td>Удаленная работа</td>\n",
              "      <td>Git;Django Framework;Python;Linux;ООП;SQL;API;...</td>\n",
              "      <td>SFERA</td>\n",
              "      <td>Москва</td>\n",
              "      <td>В продуктовую разработку требуется Back-end ра...</td>\n",
              "    </tr>\n",
              "  </tbody>\n",
              "</table>\n",
              "</div>\n",
              "    <div class=\"colab-df-buttons\">\n",
              "\n",
              "  <div class=\"colab-df-container\">\n",
              "    <button class=\"colab-df-convert\" onclick=\"convertToInteractive('df-e25475f1-c4a2-43bb-8ec5-b6ace596eaf4')\"\n",
              "            title=\"Convert this dataframe to an interactive table.\"\n",
              "            style=\"display:none;\">\n",
              "\n",
              "  <svg xmlns=\"http://www.w3.org/2000/svg\" height=\"24px\" viewBox=\"0 -960 960 960\">\n",
              "    <path d=\"M120-120v-720h720v720H120Zm60-500h600v-160H180v160Zm220 220h160v-160H400v160Zm0 220h160v-160H400v160ZM180-400h160v-160H180v160Zm440 0h160v-160H620v160ZM180-180h160v-160H180v160Zm440 0h160v-160H620v160Z\"/>\n",
              "  </svg>\n",
              "    </button>\n",
              "\n",
              "  <style>\n",
              "    .colab-df-container {\n",
              "      display:flex;\n",
              "      gap: 12px;\n",
              "    }\n",
              "\n",
              "    .colab-df-convert {\n",
              "      background-color: #E8F0FE;\n",
              "      border: none;\n",
              "      border-radius: 50%;\n",
              "      cursor: pointer;\n",
              "      display: none;\n",
              "      fill: #1967D2;\n",
              "      height: 32px;\n",
              "      padding: 0 0 0 0;\n",
              "      width: 32px;\n",
              "    }\n",
              "\n",
              "    .colab-df-convert:hover {\n",
              "      background-color: #E2EBFA;\n",
              "      box-shadow: 0px 1px 2px rgba(60, 64, 67, 0.3), 0px 1px 3px 1px rgba(60, 64, 67, 0.15);\n",
              "      fill: #174EA6;\n",
              "    }\n",
              "\n",
              "    .colab-df-buttons div {\n",
              "      margin-bottom: 4px;\n",
              "    }\n",
              "\n",
              "    [theme=dark] .colab-df-convert {\n",
              "      background-color: #3B4455;\n",
              "      fill: #D2E3FC;\n",
              "    }\n",
              "\n",
              "    [theme=dark] .colab-df-convert:hover {\n",
              "      background-color: #434B5C;\n",
              "      box-shadow: 0px 1px 3px 1px rgba(0, 0, 0, 0.15);\n",
              "      filter: drop-shadow(0px 1px 2px rgba(0, 0, 0, 0.3));\n",
              "      fill: #FFFFFF;\n",
              "    }\n",
              "  </style>\n",
              "\n",
              "    <script>\n",
              "      const buttonEl =\n",
              "        document.querySelector('#df-e25475f1-c4a2-43bb-8ec5-b6ace596eaf4 button.colab-df-convert');\n",
              "      buttonEl.style.display =\n",
              "        google.colab.kernel.accessAllowed ? 'block' : 'none';\n",
              "\n",
              "      async function convertToInteractive(key) {\n",
              "        const element = document.querySelector('#df-e25475f1-c4a2-43bb-8ec5-b6ace596eaf4');\n",
              "        const dataTable =\n",
              "          await google.colab.kernel.invokeFunction('convertToInteractive',\n",
              "                                                    [key], {});\n",
              "        if (!dataTable) return;\n",
              "\n",
              "        const docLinkHtml = 'Like what you see? Visit the ' +\n",
              "          '<a target=\"_blank\" href=https://colab.research.google.com/notebooks/data_table.ipynb>data table notebook</a>'\n",
              "          + ' to learn more about interactive tables.';\n",
              "        element.innerHTML = '';\n",
              "        dataTable['output_type'] = 'display_data';\n",
              "        await google.colab.output.renderOutput(dataTable, element);\n",
              "        const docLink = document.createElement('div');\n",
              "        docLink.innerHTML = docLinkHtml;\n",
              "        element.appendChild(docLink);\n",
              "      }\n",
              "    </script>\n",
              "  </div>\n",
              "\n",
              "\n",
              "<div id=\"df-d29b7110-ac6a-4ffa-b836-1bdffa02ce51\">\n",
              "  <button class=\"colab-df-quickchart\" onclick=\"quickchart('df-d29b7110-ac6a-4ffa-b836-1bdffa02ce51')\"\n",
              "            title=\"Suggest charts\"\n",
              "            style=\"display:none;\">\n",
              "\n",
              "<svg xmlns=\"http://www.w3.org/2000/svg\" height=\"24px\"viewBox=\"0 0 24 24\"\n",
              "     width=\"24px\">\n",
              "    <g>\n",
              "        <path d=\"M19 3H5c-1.1 0-2 .9-2 2v14c0 1.1.9 2 2 2h14c1.1 0 2-.9 2-2V5c0-1.1-.9-2-2-2zM9 17H7v-7h2v7zm4 0h-2V7h2v10zm4 0h-2v-4h2v4z\"/>\n",
              "    </g>\n",
              "</svg>\n",
              "  </button>\n",
              "\n",
              "<style>\n",
              "  .colab-df-quickchart {\n",
              "      --bg-color: #E8F0FE;\n",
              "      --fill-color: #1967D2;\n",
              "      --hover-bg-color: #E2EBFA;\n",
              "      --hover-fill-color: #174EA6;\n",
              "      --disabled-fill-color: #AAA;\n",
              "      --disabled-bg-color: #DDD;\n",
              "  }\n",
              "\n",
              "  [theme=dark] .colab-df-quickchart {\n",
              "      --bg-color: #3B4455;\n",
              "      --fill-color: #D2E3FC;\n",
              "      --hover-bg-color: #434B5C;\n",
              "      --hover-fill-color: #FFFFFF;\n",
              "      --disabled-bg-color: #3B4455;\n",
              "      --disabled-fill-color: #666;\n",
              "  }\n",
              "\n",
              "  .colab-df-quickchart {\n",
              "    background-color: var(--bg-color);\n",
              "    border: none;\n",
              "    border-radius: 50%;\n",
              "    cursor: pointer;\n",
              "    display: none;\n",
              "    fill: var(--fill-color);\n",
              "    height: 32px;\n",
              "    padding: 0;\n",
              "    width: 32px;\n",
              "  }\n",
              "\n",
              "  .colab-df-quickchart:hover {\n",
              "    background-color: var(--hover-bg-color);\n",
              "    box-shadow: 0 1px 2px rgba(60, 64, 67, 0.3), 0 1px 3px 1px rgba(60, 64, 67, 0.15);\n",
              "    fill: var(--button-hover-fill-color);\n",
              "  }\n",
              "\n",
              "  .colab-df-quickchart-complete:disabled,\n",
              "  .colab-df-quickchart-complete:disabled:hover {\n",
              "    background-color: var(--disabled-bg-color);\n",
              "    fill: var(--disabled-fill-color);\n",
              "    box-shadow: none;\n",
              "  }\n",
              "\n",
              "  .colab-df-spinner {\n",
              "    border: 2px solid var(--fill-color);\n",
              "    border-color: transparent;\n",
              "    border-bottom-color: var(--fill-color);\n",
              "    animation:\n",
              "      spin 1s steps(1) infinite;\n",
              "  }\n",
              "\n",
              "  @keyframes spin {\n",
              "    0% {\n",
              "      border-color: transparent;\n",
              "      border-bottom-color: var(--fill-color);\n",
              "      border-left-color: var(--fill-color);\n",
              "    }\n",
              "    20% {\n",
              "      border-color: transparent;\n",
              "      border-left-color: var(--fill-color);\n",
              "      border-top-color: var(--fill-color);\n",
              "    }\n",
              "    30% {\n",
              "      border-color: transparent;\n",
              "      border-left-color: var(--fill-color);\n",
              "      border-top-color: var(--fill-color);\n",
              "      border-right-color: var(--fill-color);\n",
              "    }\n",
              "    40% {\n",
              "      border-color: transparent;\n",
              "      border-right-color: var(--fill-color);\n",
              "      border-top-color: var(--fill-color);\n",
              "    }\n",
              "    60% {\n",
              "      border-color: transparent;\n",
              "      border-right-color: var(--fill-color);\n",
              "    }\n",
              "    80% {\n",
              "      border-color: transparent;\n",
              "      border-right-color: var(--fill-color);\n",
              "      border-bottom-color: var(--fill-color);\n",
              "    }\n",
              "    90% {\n",
              "      border-color: transparent;\n",
              "      border-bottom-color: var(--fill-color);\n",
              "    }\n",
              "  }\n",
              "</style>\n",
              "\n",
              "  <script>\n",
              "    async function quickchart(key) {\n",
              "      const quickchartButtonEl =\n",
              "        document.querySelector('#' + key + ' button');\n",
              "      quickchartButtonEl.disabled = true;  // To prevent multiple clicks.\n",
              "      quickchartButtonEl.classList.add('colab-df-spinner');\n",
              "      try {\n",
              "        const charts = await google.colab.kernel.invokeFunction(\n",
              "            'suggestCharts', [key], {});\n",
              "      } catch (error) {\n",
              "        console.error('Error during call to suggestCharts:', error);\n",
              "      }\n",
              "      quickchartButtonEl.classList.remove('colab-df-spinner');\n",
              "      quickchartButtonEl.classList.add('colab-df-quickchart-complete');\n",
              "    }\n",
              "    (() => {\n",
              "      let quickchartButtonEl =\n",
              "        document.querySelector('#df-d29b7110-ac6a-4ffa-b836-1bdffa02ce51 button');\n",
              "      quickchartButtonEl.style.display =\n",
              "        google.colab.kernel.accessAllowed ? 'block' : 'none';\n",
              "    })();\n",
              "  </script>\n",
              "</div>\n",
              "    </div>\n",
              "  </div>\n"
            ],
            "application/vnd.google.colaboratory.intrinsic+json": {
              "type": "dataframe",
              "variable_name": "valuti",
              "repr_error": "0"
            }
          },
          "metadata": {},
          "execution_count": 60
        }
      ],
      "source": [
        "# ВАШ КОД ЗДЕСЬ\n",
        "#создаем лист/список из доменов столбца currency\n",
        "currency = pd['currency'].tolist()\n",
        "#print(len(currency))\n",
        "curr_len = []\n",
        "#узнаем какие валюты есть в таблице, для этого переводим лист в множество\n",
        "mn_currency = set(currency)\n",
        "print(mn_currency)#видим, что есть nan, евро, рубль и доллар. нам нужны eur & usd\n",
        "\n",
        "\n",
        "#для сохранения оригинальной таблицы -- сохраним её в новую переменную\n",
        "test_pd = pd\n",
        "valuti = test_pd[test_pd['currency'].isin(['EUR', 'USD'])]#выбираем строки, где валюта не RUR и не nan\n",
        "valuti\n",
        "#выше я создал новую таблицу на основе данных иностр. валюты, чтобы оценить кол-во строк с иностр. валютой\n",
        "\n",
        "\n"
      ]
    },
    {
      "cell_type": "code",
      "source": [
        "!pip install bs4"
      ],
      "metadata": {
        "colab": {
          "base_uri": "https://localhost:8080/"
        },
        "id": "djAGeRUzdPAQ",
        "outputId": "2541c4e5-594a-4678-868d-25f34442badb"
      },
      "execution_count": 7,
      "outputs": [
        {
          "output_type": "stream",
          "name": "stdout",
          "text": [
            "Collecting bs4\n",
            "  Downloading bs4-0.0.2-py2.py3-none-any.whl (1.2 kB)\n",
            "Requirement already satisfied: beautifulsoup4 in /usr/local/lib/python3.10/dist-packages (from bs4) (4.12.3)\n",
            "Requirement already satisfied: soupsieve>1.2 in /usr/local/lib/python3.10/dist-packages (from beautifulsoup4->bs4) (2.5)\n",
            "Installing collected packages: bs4\n",
            "Successfully installed bs4-0.0.2\n"
          ]
        }
      ]
    },
    {
      "cell_type": "code",
      "source": [
        "import requests\n",
        "from bs4 import BeautifulSoup"
      ],
      "metadata": {
        "id": "3CAcSZvRdT4r"
      },
      "execution_count": 8,
      "outputs": []
    },
    {
      "cell_type": "code",
      "source": [
        "r = requests.get('https://www.cbr.ru/scripts/XML_daily.asp?date_req=13/04/2024')#получаем доступ к API на 13.04.24\n",
        "soup = BeautifulSoup(r.content, features='xml')"
      ],
      "metadata": {
        "id": "Not_uAibdU-e"
      },
      "execution_count": 62,
      "outputs": []
    },
    {
      "cell_type": "code",
      "source": [
        "currs = soup.find_all('CharCode')#ищем аббревиатуру\n",
        "print(currs[13])\n",
        "print(currs[14])"
      ],
      "metadata": {
        "colab": {
          "base_uri": "https://localhost:8080/"
        },
        "id": "AoNSkmwFezua",
        "outputId": "23dbdb9f-f50a-4862-a12a-b359d3bb53aa"
      },
      "execution_count": 63,
      "outputs": [
        {
          "output_type": "stream",
          "name": "stdout",
          "text": [
            "<CharCode>USD</CharCode>\n",
            "<CharCode>EUR</CharCode>\n"
          ]
        }
      ]
    },
    {
      "cell_type": "code",
      "source": [
        "import re\n",
        "import numpy as np\n",
        "import decimal\n",
        "from decimal import * #для работы с числами с плавающей точкой"
      ],
      "metadata": {
        "id": "GQK8ROhu5207"
      },
      "execution_count": 9,
      "outputs": []
    },
    {
      "cell_type": "code",
      "source": [
        "value = soup.find_all('Value')\n",
        "print(value[13])\n",
        "print(value[14])\n",
        "\n",
        "\n",
        "#задаем переменные для валюты и делаем из них строки без тегов\n",
        "eurx = value[14].text\n",
        "usdx = value[13].text\n",
        "getcontext().prec = 6#для числе после точки(decimal), но похоже, что это в данном коде не нужно\n",
        "\n",
        "#ставлю плавающую точку\n",
        "eur = eurx.replace(',', '.')\n",
        "usd = usdx.replace(',', '.')\n",
        "\n",
        "#меняю тип на decimal\n",
        "dec_eur = Decimal(eur)# type не int, а decimal\n",
        "dec_usd = Decimal(usd)"
      ],
      "metadata": {
        "colab": {
          "base_uri": "https://localhost:8080/"
        },
        "id": "NXtKtTyQukh-",
        "outputId": "4b862184-8258-4e51-dd4c-2d327f6df946"
      },
      "execution_count": 64,
      "outputs": [
        {
          "output_type": "stream",
          "name": "stdout",
          "text": [
            "<Value>93,4419</Value>\n",
            "<Value>99,7264</Value>\n"
          ]
        }
      ]
    },
    {
      "cell_type": "code",
      "source": [
        "#тут я создаю списки индексов для последующей итерации\n",
        "#создаем список, чтобы заполнить его индексом, это нужно для дальнейшего обращения к столбцам таблицы\n",
        "idx_list = []\n",
        "#это сохраниение индексов позиций с долларом и евро, вариант сохранения из всей таблицы\n",
        "for idx, row in test_pd.iterrows():\n",
        "    a = row[6]\n",
        "    if a == 'USD' or a == 'EUR':\n",
        "      idx_list.append(idx)\n",
        "print(idx_list)\n",
        "\n",
        "\n",
        "llist = []\n",
        "#это сохраниение индексов позиций с долларом и евро, вариант сохранения из таблицы(valuti) с вакансиями за валюту\n",
        "for idx,row in valuti.iterrows():\n",
        "  llist.append(idx)\n",
        "print(llist)"
      ],
      "metadata": {
        "id": "VNTjoQ2Vwf42",
        "colab": {
          "base_uri": "https://localhost:8080/"
        },
        "outputId": "4dc26535-ac42-436d-cc34-9974f58e1360"
      },
      "execution_count": 65,
      "outputs": [
        {
          "output_type": "stream",
          "name": "stdout",
          "text": [
            "[19, 123, 142, 145, 175, 191, 371, 386, 427, 435, 437, 465, 478, 558, 601, 685, 694, 730, 859, 900, 1077, 1216, 1306, 1312, 1446, 1453, 1470, 1512, 1627]\n",
            "[19, 123, 142, 145, 175, 191, 371, 386, 427, 435, 437, 465, 478, 558, 601, 685, 694, 730, 859, 900, 1077, 1216, 1306, 1312, 1446, 1453, 1470, 1512, 1627]\n"
          ]
        }
      ]
    },
    {
      "cell_type": "code",
      "source": [
        "def f(x):#убираем плавающую точку у чисел в таблице\n",
        "    try:\n",
        "        if x.is_integer():\n",
        "            return f'{x: .0f}'\n",
        "        else:\n",
        "            return x\n",
        "    except:\n",
        "        return x"
      ],
      "metadata": {
        "id": "03P_zXB1TDlC"
      },
      "execution_count": 66,
      "outputs": []
    },
    {
      "cell_type": "code",
      "source": [
        "test_pd_no_nan = pd.fillna(0) #заменяет nan на 0 с плавующей точкой\n",
        "test_pd_no_nan = test_pd_no_nan.applymap(f)#убирает плавающую точку"
      ],
      "metadata": {
        "id": "6dQMEo6LTNx3"
      },
      "execution_count": 67,
      "outputs": []
    },
    {
      "cell_type": "code",
      "source": [
        "test_pd_no_nan.loc[19][4]#проверка на плавающую точки и тип данных"
      ],
      "metadata": {
        "colab": {
          "base_uri": "https://localhost:8080/",
          "height": 36
        },
        "id": "ph6YC494VoAY",
        "outputId": "24b35913-2c1b-41ca-8df5-d65350e74569"
      },
      "execution_count": 68,
      "outputs": [
        {
          "output_type": "execute_result",
          "data": {
            "text/plain": [
              "' 3400'"
            ],
            "application/vnd.google.colaboratory.intrinsic+json": {
              "type": "string"
            }
          },
          "metadata": {},
          "execution_count": 68
        }
      ]
    },
    {
      "cell_type": "code",
      "source": [
        "test_pd_no_nan[19:20] #проверка на наличие плавающей точки и nan"
      ],
      "metadata": {
        "colab": {
          "base_uri": "https://localhost:8080/",
          "height": 153
        },
        "id": "_YrKDTR6hAMV",
        "outputId": "a006e147-9d46-4559-a432-69de58dfb2a8"
      },
      "execution_count": 69,
      "outputs": [
        {
          "output_type": "execute_result",
          "data": {
            "text/plain": [
              "                     vacancy  \\\n",
              "19  Python Software Engineer   \n",
              "\n",
              "                                                  url  \\\n",
              "19  https://hh.ru/applicant/vacancy_response?vacan...   \n",
              "\n",
              "                     created  has_test salary_from salary_to currency  \\\n",
              "19  2021-07-07T20:12:42+0300     False        3400         0      EUR   \n",
              "\n",
              "            experience     schedule  \\\n",
              "19  От 1 года до 3 лет  Полный день   \n",
              "\n",
              "                                         skills employer    area  \\\n",
              "19  Python;PostgreSQL;SQL;Linux;Docker;asyncio;   Exness  Москва   \n",
              "\n",
              "                                          description  \n",
              "19  Кто мы? Мы финтех компания, разрабатывающая B2...  "
            ],
            "text/html": [
              "\n",
              "  <div id=\"df-86871110-fcc1-4963-a920-2425da4843cb\" class=\"colab-df-container\">\n",
              "    <div>\n",
              "<style scoped>\n",
              "    .dataframe tbody tr th:only-of-type {\n",
              "        vertical-align: middle;\n",
              "    }\n",
              "\n",
              "    .dataframe tbody tr th {\n",
              "        vertical-align: top;\n",
              "    }\n",
              "\n",
              "    .dataframe thead th {\n",
              "        text-align: right;\n",
              "    }\n",
              "</style>\n",
              "<table border=\"1\" class=\"dataframe\">\n",
              "  <thead>\n",
              "    <tr style=\"text-align: right;\">\n",
              "      <th></th>\n",
              "      <th>vacancy</th>\n",
              "      <th>url</th>\n",
              "      <th>created</th>\n",
              "      <th>has_test</th>\n",
              "      <th>salary_from</th>\n",
              "      <th>salary_to</th>\n",
              "      <th>currency</th>\n",
              "      <th>experience</th>\n",
              "      <th>schedule</th>\n",
              "      <th>skills</th>\n",
              "      <th>employer</th>\n",
              "      <th>area</th>\n",
              "      <th>description</th>\n",
              "    </tr>\n",
              "  </thead>\n",
              "  <tbody>\n",
              "    <tr>\n",
              "      <th>19</th>\n",
              "      <td>Python Software Engineer</td>\n",
              "      <td>https://hh.ru/applicant/vacancy_response?vacan...</td>\n",
              "      <td>2021-07-07T20:12:42+0300</td>\n",
              "      <td>False</td>\n",
              "      <td>3400</td>\n",
              "      <td>0</td>\n",
              "      <td>EUR</td>\n",
              "      <td>От 1 года до 3 лет</td>\n",
              "      <td>Полный день</td>\n",
              "      <td>Python;PostgreSQL;SQL;Linux;Docker;asyncio;</td>\n",
              "      <td>Exness</td>\n",
              "      <td>Москва</td>\n",
              "      <td>Кто мы? Мы финтех компания, разрабатывающая B2...</td>\n",
              "    </tr>\n",
              "  </tbody>\n",
              "</table>\n",
              "</div>\n",
              "    <div class=\"colab-df-buttons\">\n",
              "\n",
              "  <div class=\"colab-df-container\">\n",
              "    <button class=\"colab-df-convert\" onclick=\"convertToInteractive('df-86871110-fcc1-4963-a920-2425da4843cb')\"\n",
              "            title=\"Convert this dataframe to an interactive table.\"\n",
              "            style=\"display:none;\">\n",
              "\n",
              "  <svg xmlns=\"http://www.w3.org/2000/svg\" height=\"24px\" viewBox=\"0 -960 960 960\">\n",
              "    <path d=\"M120-120v-720h720v720H120Zm60-500h600v-160H180v160Zm220 220h160v-160H400v160Zm0 220h160v-160H400v160ZM180-400h160v-160H180v160Zm440 0h160v-160H620v160ZM180-180h160v-160H180v160Zm440 0h160v-160H620v160Z\"/>\n",
              "  </svg>\n",
              "    </button>\n",
              "\n",
              "  <style>\n",
              "    .colab-df-container {\n",
              "      display:flex;\n",
              "      gap: 12px;\n",
              "    }\n",
              "\n",
              "    .colab-df-convert {\n",
              "      background-color: #E8F0FE;\n",
              "      border: none;\n",
              "      border-radius: 50%;\n",
              "      cursor: pointer;\n",
              "      display: none;\n",
              "      fill: #1967D2;\n",
              "      height: 32px;\n",
              "      padding: 0 0 0 0;\n",
              "      width: 32px;\n",
              "    }\n",
              "\n",
              "    .colab-df-convert:hover {\n",
              "      background-color: #E2EBFA;\n",
              "      box-shadow: 0px 1px 2px rgba(60, 64, 67, 0.3), 0px 1px 3px 1px rgba(60, 64, 67, 0.15);\n",
              "      fill: #174EA6;\n",
              "    }\n",
              "\n",
              "    .colab-df-buttons div {\n",
              "      margin-bottom: 4px;\n",
              "    }\n",
              "\n",
              "    [theme=dark] .colab-df-convert {\n",
              "      background-color: #3B4455;\n",
              "      fill: #D2E3FC;\n",
              "    }\n",
              "\n",
              "    [theme=dark] .colab-df-convert:hover {\n",
              "      background-color: #434B5C;\n",
              "      box-shadow: 0px 1px 3px 1px rgba(0, 0, 0, 0.15);\n",
              "      filter: drop-shadow(0px 1px 2px rgba(0, 0, 0, 0.3));\n",
              "      fill: #FFFFFF;\n",
              "    }\n",
              "  </style>\n",
              "\n",
              "    <script>\n",
              "      const buttonEl =\n",
              "        document.querySelector('#df-86871110-fcc1-4963-a920-2425da4843cb button.colab-df-convert');\n",
              "      buttonEl.style.display =\n",
              "        google.colab.kernel.accessAllowed ? 'block' : 'none';\n",
              "\n",
              "      async function convertToInteractive(key) {\n",
              "        const element = document.querySelector('#df-86871110-fcc1-4963-a920-2425da4843cb');\n",
              "        const dataTable =\n",
              "          await google.colab.kernel.invokeFunction('convertToInteractive',\n",
              "                                                    [key], {});\n",
              "        if (!dataTable) return;\n",
              "\n",
              "        const docLinkHtml = 'Like what you see? Visit the ' +\n",
              "          '<a target=\"_blank\" href=https://colab.research.google.com/notebooks/data_table.ipynb>data table notebook</a>'\n",
              "          + ' to learn more about interactive tables.';\n",
              "        element.innerHTML = '';\n",
              "        dataTable['output_type'] = 'display_data';\n",
              "        await google.colab.output.renderOutput(dataTable, element);\n",
              "        const docLink = document.createElement('div');\n",
              "        docLink.innerHTML = docLinkHtml;\n",
              "        element.appendChild(docLink);\n",
              "      }\n",
              "    </script>\n",
              "  </div>\n",
              "\n",
              "    </div>\n",
              "  </div>\n"
            ],
            "application/vnd.google.colaboratory.intrinsic+json": {
              "type": "dataframe",
              "repr_error": "0"
            }
          },
          "metadata": {},
          "execution_count": 69
        }
      ]
    },
    {
      "cell_type": "code",
      "source": [
        "#Это сам код, который конвертирует валюту\n",
        "\n",
        "#test_pd.loc[19][4] # salary from\n",
        "#test_pd.loc[19][5] # salary to\n",
        "#test_pd.loc[19][6] # currency\n",
        "\n",
        "\n",
        "for i in llist:\n",
        "  # salary_from = test_pd_no_nan.loc[i][4]\n",
        "  # salary_to = test_pd_no_nan.loc[i][5]\n",
        "\n",
        "  if test_pd_no_nan.loc[i, 'currency'] == 'EUR':\n",
        "    eur_to_rub_from = int(test_pd_no_nan.loc[i][4]) * dec_eur #присваиваем переменной произведение (конвертацию) валюты в рубли для мин ЗП\n",
        "    eur_to_rub_to = int(test_pd_no_nan.loc[i][5]) * dec_eur #присваиваем переменной произведение (конвертацию) валюты в рубли для макс ЗП\n",
        "    test_pd_no_nan.loc[i, 'salary_from'] = eur_to_rub_from #меняем значение в столбцах с ЗП\n",
        "    test_pd_no_nan.loc[i, 'salary_to'] = eur_to_rub_to #меняем значение в столбцах с ЗП\n",
        "\n",
        "  elif test_pd_no_nan.loc[i, 'currency'] == 'USD':\n",
        "    usd_to_rub_from = int(test_pd_no_nan.loc[i][4]) * dec_usd\n",
        "    usd_to_rub_to = int(test_pd_no_nan.loc[i][5]) * dec_usd\n",
        "    test_pd_no_nan.loc[i, 'salary_from'] = usd_to_rub_from\n",
        "    test_pd_no_nan.loc[i, 'salary_to'] = usd_to_rub_to\n",
        "\n",
        "  else:\n",
        "    pass\n",
        "\n",
        "\n",
        "#test_pd_no_nan.loc[19, 'salary_from'] #проверка на изменение ячейки\n",
        "\n",
        "\n",
        "# res = 3400 * dec_eur проверка умножения на дробное число\n",
        "# res\n",
        "#test_curr"
      ],
      "metadata": {
        "id": "ycyxVcqc7ADn"
      },
      "execution_count": 70,
      "outputs": []
    },
    {
      "cell_type": "code",
      "source": [
        "#заменяем ячейки, где раньше была иностранная валюта на RUR\n",
        "for i in llist:\n",
        "  if test_pd_no_nan.loc[i, 'currency'] == 'EUR' or test_pd_no_nan.loc[i, 'currency'] == 'USD':\n",
        "    test_pd_no_nan.loc[i, 'currency'] = 'RUR'"
      ],
      "metadata": {
        "id": "jik3b3ZtiHSI"
      },
      "execution_count": 71,
      "outputs": []
    },
    {
      "cell_type": "code",
      "source": [
        "#проверяем валюту для строк, где была иностранная валюта\n",
        "for i in llist:\n",
        "  print(test_pd_no_nan.loc[i, 'currency'])"
      ],
      "metadata": {
        "id": "QwQR49IOjmYL"
      },
      "execution_count": null,
      "outputs": []
    },
    {
      "cell_type": "code",
      "source": [
        "#Итоговый вариант таблицы с изменёнными ЗП это test_pd_no_nan"
      ],
      "metadata": {
        "id": "6gblN52Elwlj"
      },
      "execution_count": null,
      "outputs": []
    },
    {
      "cell_type": "markdown",
      "source": [
        "### Итоговый вариант таблицы с изменёнными ЗП это **test_pd_no_nan**"
      ],
      "metadata": {
        "id": "WDDZ4mqAl66U"
      }
    },
    {
      "cell_type": "markdown",
      "source": [
        "# Задание посложнее"
      ],
      "metadata": {
        "id": "ypA9BcWm4KNo"
      }
    },
    {
      "cell_type": "code",
      "source": [
        "pd"
      ],
      "metadata": {
        "id": "eovBPFXP4N7V"
      },
      "execution_count": null,
      "outputs": []
    },
    {
      "cell_type": "code",
      "source": [
        "pd_diff = pd.fillna(0) #заменяет nan на 0 с плавующей точкой\n",
        "pd_diff = pd_diff.applymap(f)#убирает плавающую точку"
      ],
      "metadata": {
        "id": "--16BgR84UCO"
      },
      "execution_count": null,
      "outputs": []
    },
    {
      "cell_type": "code",
      "source": [
        "pd_diff[19:20]#проверка на плавающий ноль и nan"
      ],
      "metadata": {
        "colab": {
          "base_uri": "https://localhost:8080/",
          "height": 153
        },
        "id": "ewKG29dD4cyG",
        "outputId": "f7240540-be30-4c3a-a454-9262128977a3"
      },
      "execution_count": null,
      "outputs": [
        {
          "output_type": "execute_result",
          "data": {
            "text/plain": [
              "                     vacancy  \\\n",
              "19  Python Software Engineer   \n",
              "\n",
              "                                                  url  \\\n",
              "19  https://hh.ru/applicant/vacancy_response?vacan...   \n",
              "\n",
              "                     created  has_test salary_from salary_to currency  \\\n",
              "19  2021-07-07T20:12:42+0300     False        3400         0      EUR   \n",
              "\n",
              "            experience     schedule  \\\n",
              "19  От 1 года до 3 лет  Полный день   \n",
              "\n",
              "                                         skills employer    area  \\\n",
              "19  Python;PostgreSQL;SQL;Linux;Docker;asyncio;   Exness  Москва   \n",
              "\n",
              "                                          description  \n",
              "19  Кто мы? Мы финтех компания, разрабатывающая B2...  "
            ],
            "text/html": [
              "\n",
              "  <div id=\"df-8f33fb34-9850-46d5-84a3-818607977d13\" class=\"colab-df-container\">\n",
              "    <div>\n",
              "<style scoped>\n",
              "    .dataframe tbody tr th:only-of-type {\n",
              "        vertical-align: middle;\n",
              "    }\n",
              "\n",
              "    .dataframe tbody tr th {\n",
              "        vertical-align: top;\n",
              "    }\n",
              "\n",
              "    .dataframe thead th {\n",
              "        text-align: right;\n",
              "    }\n",
              "</style>\n",
              "<table border=\"1\" class=\"dataframe\">\n",
              "  <thead>\n",
              "    <tr style=\"text-align: right;\">\n",
              "      <th></th>\n",
              "      <th>vacancy</th>\n",
              "      <th>url</th>\n",
              "      <th>created</th>\n",
              "      <th>has_test</th>\n",
              "      <th>salary_from</th>\n",
              "      <th>salary_to</th>\n",
              "      <th>currency</th>\n",
              "      <th>experience</th>\n",
              "      <th>schedule</th>\n",
              "      <th>skills</th>\n",
              "      <th>employer</th>\n",
              "      <th>area</th>\n",
              "      <th>description</th>\n",
              "    </tr>\n",
              "  </thead>\n",
              "  <tbody>\n",
              "    <tr>\n",
              "      <th>19</th>\n",
              "      <td>Python Software Engineer</td>\n",
              "      <td>https://hh.ru/applicant/vacancy_response?vacan...</td>\n",
              "      <td>2021-07-07T20:12:42+0300</td>\n",
              "      <td>False</td>\n",
              "      <td>3400</td>\n",
              "      <td>0</td>\n",
              "      <td>EUR</td>\n",
              "      <td>От 1 года до 3 лет</td>\n",
              "      <td>Полный день</td>\n",
              "      <td>Python;PostgreSQL;SQL;Linux;Docker;asyncio;</td>\n",
              "      <td>Exness</td>\n",
              "      <td>Москва</td>\n",
              "      <td>Кто мы? Мы финтех компания, разрабатывающая B2...</td>\n",
              "    </tr>\n",
              "  </tbody>\n",
              "</table>\n",
              "</div>\n",
              "    <div class=\"colab-df-buttons\">\n",
              "\n",
              "  <div class=\"colab-df-container\">\n",
              "    <button class=\"colab-df-convert\" onclick=\"convertToInteractive('df-8f33fb34-9850-46d5-84a3-818607977d13')\"\n",
              "            title=\"Convert this dataframe to an interactive table.\"\n",
              "            style=\"display:none;\">\n",
              "\n",
              "  <svg xmlns=\"http://www.w3.org/2000/svg\" height=\"24px\" viewBox=\"0 -960 960 960\">\n",
              "    <path d=\"M120-120v-720h720v720H120Zm60-500h600v-160H180v160Zm220 220h160v-160H400v160Zm0 220h160v-160H400v160ZM180-400h160v-160H180v160Zm440 0h160v-160H620v160ZM180-180h160v-160H180v160Zm440 0h160v-160H620v160Z\"/>\n",
              "  </svg>\n",
              "    </button>\n",
              "\n",
              "  <style>\n",
              "    .colab-df-container {\n",
              "      display:flex;\n",
              "      gap: 12px;\n",
              "    }\n",
              "\n",
              "    .colab-df-convert {\n",
              "      background-color: #E8F0FE;\n",
              "      border: none;\n",
              "      border-radius: 50%;\n",
              "      cursor: pointer;\n",
              "      display: none;\n",
              "      fill: #1967D2;\n",
              "      height: 32px;\n",
              "      padding: 0 0 0 0;\n",
              "      width: 32px;\n",
              "    }\n",
              "\n",
              "    .colab-df-convert:hover {\n",
              "      background-color: #E2EBFA;\n",
              "      box-shadow: 0px 1px 2px rgba(60, 64, 67, 0.3), 0px 1px 3px 1px rgba(60, 64, 67, 0.15);\n",
              "      fill: #174EA6;\n",
              "    }\n",
              "\n",
              "    .colab-df-buttons div {\n",
              "      margin-bottom: 4px;\n",
              "    }\n",
              "\n",
              "    [theme=dark] .colab-df-convert {\n",
              "      background-color: #3B4455;\n",
              "      fill: #D2E3FC;\n",
              "    }\n",
              "\n",
              "    [theme=dark] .colab-df-convert:hover {\n",
              "      background-color: #434B5C;\n",
              "      box-shadow: 0px 1px 3px 1px rgba(0, 0, 0, 0.15);\n",
              "      filter: drop-shadow(0px 1px 2px rgba(0, 0, 0, 0.3));\n",
              "      fill: #FFFFFF;\n",
              "    }\n",
              "  </style>\n",
              "\n",
              "    <script>\n",
              "      const buttonEl =\n",
              "        document.querySelector('#df-8f33fb34-9850-46d5-84a3-818607977d13 button.colab-df-convert');\n",
              "      buttonEl.style.display =\n",
              "        google.colab.kernel.accessAllowed ? 'block' : 'none';\n",
              "\n",
              "      async function convertToInteractive(key) {\n",
              "        const element = document.querySelector('#df-8f33fb34-9850-46d5-84a3-818607977d13');\n",
              "        const dataTable =\n",
              "          await google.colab.kernel.invokeFunction('convertToInteractive',\n",
              "                                                    [key], {});\n",
              "        if (!dataTable) return;\n",
              "\n",
              "        const docLinkHtml = 'Like what you see? Visit the ' +\n",
              "          '<a target=\"_blank\" href=https://colab.research.google.com/notebooks/data_table.ipynb>data table notebook</a>'\n",
              "          + ' to learn more about interactive tables.';\n",
              "        element.innerHTML = '';\n",
              "        dataTable['output_type'] = 'display_data';\n",
              "        await google.colab.output.renderOutput(dataTable, element);\n",
              "        const docLink = document.createElement('div');\n",
              "        docLink.innerHTML = docLinkHtml;\n",
              "        element.appendChild(docLink);\n",
              "      }\n",
              "    </script>\n",
              "  </div>\n",
              "\n",
              "    </div>\n",
              "  </div>\n"
            ],
            "application/vnd.google.colaboratory.intrinsic+json": {
              "type": "dataframe",
              "repr_error": "0"
            }
          },
          "metadata": {},
          "execution_count": 14
        }
      ]
    },
    {
      "cell_type": "code",
      "source": [
        "#Эта часть не влияет на код. Тут я проверял соотнесенность количества индексов, тестировал регулярку на дату... Я бы мог это удалить, но друг вам было бы интересно посмотреть \"полигон\"\n",
        "\n",
        "# indexes = []\n",
        "# for idx, row in pd_diff.iterrows():\n",
        "#   indexes.append(idx)\n",
        "# len(indexes)\n",
        "\n",
        "# # print(a)\n",
        "\n",
        "# kok = []\n",
        "\n",
        "# for i in indexes:\n",
        "#   a = re.search('\\d{4}\\-\\d\\d\\-\\d\\d', f'{pd_diff.loc[i][2]}')\n",
        "#   kok.append(a[0])\n",
        "# # print(kok[19])\n",
        "\n",
        "# # numbs = []\n",
        "# # for numb in indexes:\n",
        "# #   if pd_diff.loc[numb][6] == 'EUR' or pd_diff.loc[numb][6] == 'USD':\n",
        "# #     numbs.append(numb)\n",
        "# # print(len(numbs), '\\n', len(llist))\n",
        "\n",
        "# test_curr = pd_diff[pd_diff['currency'].isin(['EUR', 'USD'])]\n",
        "# len(test_curr)\n",
        "\n",
        "# for l in llist:\n",
        "#   norm_date = re.match('\\d{4}\\-\\d\\d\\-\\d\\d', f'{pd_diff.loc[l][2]}')\n",
        "#   print(norm_date, '\\t', pd_diff.loc[l][2])\n",
        "\n"
      ],
      "metadata": {
        "id": "lIBAk2BD4x4W"
      },
      "execution_count": null,
      "outputs": []
    },
    {
      "cell_type": "code",
      "source": [
        "#тут я тоже проверял выделение даты с помощью  regexp, но уже с учетом итерации по строкам с нужными нам данными\n",
        "#Выделяем даты из строк с иностр. валютой. После разбиваем дату на составляющие, чтобы поместить их в request для парсинга\n",
        "for l in llist:\n",
        "  norm_date = re.match('\\d{4}\\-\\d\\d\\-\\d\\d', f'{pd_diff.loc[l][2]}')\n",
        "  print(norm_date[0])\n",
        "  slash_date = norm_date[0].replace('-', '/')#это не обязательно, но я почему-то решил это сделать... Наверное, чтобы сделать дату более похожей на ту, что указана в таблице. Можно удалить\n",
        "  year = slash_date[0:4]\n",
        "  month = slash_date[5:7]\n",
        "  day = slash_date[8:10]\n"
      ],
      "metadata": {
        "id": "Hvkk24X2Aj_6"
      },
      "execution_count": null,
      "outputs": []
    },
    {
      "cell_type": "code",
      "source": [
        "#Создание нового запроса к сайту\n",
        "#проверка замены даты\n",
        "ddate = '2021/03/01'\n",
        "year = ddate[0:4]\n",
        "month = ddate[5:7]\n",
        "day = ddate[8:10]\n",
        "\n",
        "\n",
        "r_test = requests.get('https://www.cbr.ru/scripts/XML_daily.asp?date_req='+f'{day}/'+f'{month}/'+f'{year}')#получаем доступ к API на даты из таблицы\n",
        "soup_test = BeautifulSoup(r_test.content, features='xml')\n",
        "value_test = soup_test.find_all('Value')\n",
        "currs_test = soup_test.find_all('CharCode')#ищем аббревиатуру\n",
        "\n",
        "print(currs_test[10])\n",
        "print(currs_test[11])\n",
        "print(value_test[10])\n",
        "print(value_test[11])\n",
        "#код валюты не совпадает, поэтому пришлось поменять цифру для обращения на 10 и 11"
      ],
      "metadata": {
        "colab": {
          "base_uri": "https://localhost:8080/"
        },
        "id": "mD-Jsjn6IcK6",
        "outputId": "e3330725-28d2-4aec-867a-bdb41f6e1d53"
      },
      "execution_count": null,
      "outputs": [
        {
          "output_type": "stream",
          "name": "stdout",
          "text": [
            "<CharCode>USD</CharCode>\n",
            "<CharCode>EUR</CharCode>\n",
            "<Value>74,4373</Value>\n",
            "<Value>90,3743</Value>\n"
          ]
        }
      ]
    },
    {
      "cell_type": "code",
      "source": [
        "#однако необходимо проверить, чтобы в течении 2021 года новые валюты не добалялись в API\n",
        "\n",
        "check_eur = []#поскольку в множетве элементы не повторяются, занесем всё в этот список, а потом его преобразуем в множество\n",
        "check_usd = []\n",
        "\n",
        "for m in range(1, 10):\n",
        "  r_s = requests.get('https://www.cbr.ru/scripts/XML_daily.asp?date_req='+f'01/'+f'0{m}/'+f'2021')#получаем доступ к API на даты из таблицы\n",
        "  soup_s = BeautifulSoup(r_s.content, features='xml')\n",
        "  value_s = soup_s.find_all('Value')\n",
        "  currs_s = soup_s.find_all('CharCode')\n",
        "  print(currs_s[10], '\\t', currs_s[11])\n",
        "\n",
        "#Если парсить каждый день и месяц, то на исполнение ячейки тратиться очень много времени, поэтому я ограничился только проверки первого дня месяца с января по сентябрь\n",
        "#Итог: смещения не произошло"
      ],
      "metadata": {
        "id": "HFvoh38PMR-x"
      },
      "execution_count": null,
      "outputs": []
    },
    {
      "cell_type": "code",
      "source": [
        "pd_diff_test = pd_diff"
      ],
      "metadata": {
        "id": "RTaugqnGW-j_"
      },
      "execution_count": null,
      "outputs": []
    },
    {
      "cell_type": "code",
      "source": [
        "for d in llist:\n",
        "  date_raw = re.match('\\d{4}\\-\\d\\d\\-\\d\\d', f'{pd_diff.loc[d][2]}')\n",
        "  date = date_raw[0]\n",
        "  year = date[0:4]\n",
        "  month = date[5:7]\n",
        "  day = date[8:10]\n",
        "  #print(date, '\\t', year, '\\n', '\\t\\t', month, '\\n', '\\t\\t', day)\n",
        "  r_diff = requests.get('https://www.cbr.ru/scripts/XML_daily.asp?date_req='+f'{day}/'+f'{month}/'+f'{year}')\n",
        "  soup_diff = BeautifulSoup(r_diff.content, features='xml')\n",
        "  value_diff = soup_diff.find_all('Value')\n",
        "  currs_diff = soup_diff.find_all('CharCode')\n",
        "\n",
        "  eur_diff = value_diff[11].text\n",
        "  usd_diff = value_diff[10].text\n",
        "  getcontext().prec = 6\n",
        "\n",
        "  eur_y = eur_diff.replace(',', '.')\n",
        "  usd_y = usd_diff.replace(',', '.')\n",
        "\n",
        "  dec_eur_y = Decimal(eur_y)# type не int, а decimal\n",
        "  dec_usd_y = Decimal(usd_y)\n",
        "\n",
        "  #print(dec_eur_y, '\\t', dec_usd_y, '\\t', date)\n",
        "\n",
        "  if pd_diff_test.loc[d, 'currency'] == 'EUR':\n",
        "    eur_y_to_rub_from = int(pd_diff_test.loc[d][4]) * dec_eur_y\n",
        "    eur_y_to_rub_to = int(pd_diff_test.loc[d][5]) * dec_eur_y\n",
        "    pd_diff_test.loc[d, 'salary_from'] = eur_y_to_rub_from\n",
        "    pd_diff_test.loc[d, 'salary_to'] = eur_y_to_rub_to\n",
        "\n",
        "  elif pd_diff_test.loc[d, 'currency'] == 'USD':\n",
        "    usd_y_to_rub_from = int(pd_diff_test.loc[d][4]) * dec_usd_y\n",
        "    usd_y_to_rub_to = int(pd_diff_test.loc[d][5]) * dec_usd_y\n",
        "    pd_diff_test.loc[d, 'salary_from'] = usd_y_to_rub_from\n",
        "    pd_diff_test.loc[d, 'salary_to'] = usd_y_to_rub_to\n",
        "\n",
        "  else:\n",
        "    pass\n"
      ],
      "metadata": {
        "id": "UryvMYycTTu4"
      },
      "execution_count": null,
      "outputs": []
    },
    {
      "cell_type": "code",
      "source": [
        "#далее меняем валюту eur usd на rur\n",
        "for dig in llist:\n",
        "  if pd_diff_test.loc[dig, 'currency'] == 'EUR' or pd_diff_test.loc[dig, 'currency'] == 'USD':\n",
        "    pd_diff_test.loc[dig, 'currency'] = 'RUR'"
      ],
      "metadata": {
        "id": "ptWOAroAZ34c"
      },
      "execution_count": null,
      "outputs": []
    },
    {
      "cell_type": "code",
      "source": [
        "for sos in llist:\n",
        "  print(pd_diff_test.loc[sos, 'currency'])"
      ],
      "metadata": {
        "id": "hlu2ENM5asof"
      },
      "execution_count": null,
      "outputs": []
    },
    {
      "cell_type": "code",
      "source": [
        "pd_diff_test[19:20]"
      ],
      "metadata": {
        "colab": {
          "base_uri": "https://localhost:8080/",
          "height": 153
        },
        "id": "GJ-9lz3rXCGY",
        "outputId": "5cbcb6d1-f7c3-4533-995b-5abd56c64aa6"
      },
      "execution_count": null,
      "outputs": [
        {
          "output_type": "execute_result",
          "data": {
            "text/plain": [
              "                     vacancy  \\\n",
              "19  Python Software Engineer   \n",
              "\n",
              "                                                  url  \\\n",
              "19  https://hh.ru/applicant/vacancy_response?vacan...   \n",
              "\n",
              "                     created  has_test salary_from salary_to currency  \\\n",
              "19  2021-07-07T20:12:42+0300     False      295812    0.0000      RUR   \n",
              "\n",
              "            experience     schedule  \\\n",
              "19  От 1 года до 3 лет  Полный день   \n",
              "\n",
              "                                         skills employer    area  \\\n",
              "19  Python;PostgreSQL;SQL;Linux;Docker;asyncio;   Exness  Москва   \n",
              "\n",
              "                                          description  \n",
              "19  Кто мы? Мы финтех компания, разрабатывающая B2...  "
            ],
            "text/html": [
              "\n",
              "  <div id=\"df-7e822d34-036c-4055-a5bc-1ac7ea56d6dc\" class=\"colab-df-container\">\n",
              "    <div>\n",
              "<style scoped>\n",
              "    .dataframe tbody tr th:only-of-type {\n",
              "        vertical-align: middle;\n",
              "    }\n",
              "\n",
              "    .dataframe tbody tr th {\n",
              "        vertical-align: top;\n",
              "    }\n",
              "\n",
              "    .dataframe thead th {\n",
              "        text-align: right;\n",
              "    }\n",
              "</style>\n",
              "<table border=\"1\" class=\"dataframe\">\n",
              "  <thead>\n",
              "    <tr style=\"text-align: right;\">\n",
              "      <th></th>\n",
              "      <th>vacancy</th>\n",
              "      <th>url</th>\n",
              "      <th>created</th>\n",
              "      <th>has_test</th>\n",
              "      <th>salary_from</th>\n",
              "      <th>salary_to</th>\n",
              "      <th>currency</th>\n",
              "      <th>experience</th>\n",
              "      <th>schedule</th>\n",
              "      <th>skills</th>\n",
              "      <th>employer</th>\n",
              "      <th>area</th>\n",
              "      <th>description</th>\n",
              "    </tr>\n",
              "  </thead>\n",
              "  <tbody>\n",
              "    <tr>\n",
              "      <th>19</th>\n",
              "      <td>Python Software Engineer</td>\n",
              "      <td>https://hh.ru/applicant/vacancy_response?vacan...</td>\n",
              "      <td>2021-07-07T20:12:42+0300</td>\n",
              "      <td>False</td>\n",
              "      <td>295812</td>\n",
              "      <td>0.0000</td>\n",
              "      <td>RUR</td>\n",
              "      <td>От 1 года до 3 лет</td>\n",
              "      <td>Полный день</td>\n",
              "      <td>Python;PostgreSQL;SQL;Linux;Docker;asyncio;</td>\n",
              "      <td>Exness</td>\n",
              "      <td>Москва</td>\n",
              "      <td>Кто мы? Мы финтех компания, разрабатывающая B2...</td>\n",
              "    </tr>\n",
              "  </tbody>\n",
              "</table>\n",
              "</div>\n",
              "    <div class=\"colab-df-buttons\">\n",
              "\n",
              "  <div class=\"colab-df-container\">\n",
              "    <button class=\"colab-df-convert\" onclick=\"convertToInteractive('df-7e822d34-036c-4055-a5bc-1ac7ea56d6dc')\"\n",
              "            title=\"Convert this dataframe to an interactive table.\"\n",
              "            style=\"display:none;\">\n",
              "\n",
              "  <svg xmlns=\"http://www.w3.org/2000/svg\" height=\"24px\" viewBox=\"0 -960 960 960\">\n",
              "    <path d=\"M120-120v-720h720v720H120Zm60-500h600v-160H180v160Zm220 220h160v-160H400v160Zm0 220h160v-160H400v160ZM180-400h160v-160H180v160Zm440 0h160v-160H620v160ZM180-180h160v-160H180v160Zm440 0h160v-160H620v160Z\"/>\n",
              "  </svg>\n",
              "    </button>\n",
              "\n",
              "  <style>\n",
              "    .colab-df-container {\n",
              "      display:flex;\n",
              "      gap: 12px;\n",
              "    }\n",
              "\n",
              "    .colab-df-convert {\n",
              "      background-color: #E8F0FE;\n",
              "      border: none;\n",
              "      border-radius: 50%;\n",
              "      cursor: pointer;\n",
              "      display: none;\n",
              "      fill: #1967D2;\n",
              "      height: 32px;\n",
              "      padding: 0 0 0 0;\n",
              "      width: 32px;\n",
              "    }\n",
              "\n",
              "    .colab-df-convert:hover {\n",
              "      background-color: #E2EBFA;\n",
              "      box-shadow: 0px 1px 2px rgba(60, 64, 67, 0.3), 0px 1px 3px 1px rgba(60, 64, 67, 0.15);\n",
              "      fill: #174EA6;\n",
              "    }\n",
              "\n",
              "    .colab-df-buttons div {\n",
              "      margin-bottom: 4px;\n",
              "    }\n",
              "\n",
              "    [theme=dark] .colab-df-convert {\n",
              "      background-color: #3B4455;\n",
              "      fill: #D2E3FC;\n",
              "    }\n",
              "\n",
              "    [theme=dark] .colab-df-convert:hover {\n",
              "      background-color: #434B5C;\n",
              "      box-shadow: 0px 1px 3px 1px rgba(0, 0, 0, 0.15);\n",
              "      filter: drop-shadow(0px 1px 2px rgba(0, 0, 0, 0.3));\n",
              "      fill: #FFFFFF;\n",
              "    }\n",
              "  </style>\n",
              "\n",
              "    <script>\n",
              "      const buttonEl =\n",
              "        document.querySelector('#df-7e822d34-036c-4055-a5bc-1ac7ea56d6dc button.colab-df-convert');\n",
              "      buttonEl.style.display =\n",
              "        google.colab.kernel.accessAllowed ? 'block' : 'none';\n",
              "\n",
              "      async function convertToInteractive(key) {\n",
              "        const element = document.querySelector('#df-7e822d34-036c-4055-a5bc-1ac7ea56d6dc');\n",
              "        const dataTable =\n",
              "          await google.colab.kernel.invokeFunction('convertToInteractive',\n",
              "                                                    [key], {});\n",
              "        if (!dataTable) return;\n",
              "\n",
              "        const docLinkHtml = 'Like what you see? Visit the ' +\n",
              "          '<a target=\"_blank\" href=https://colab.research.google.com/notebooks/data_table.ipynb>data table notebook</a>'\n",
              "          + ' to learn more about interactive tables.';\n",
              "        element.innerHTML = '';\n",
              "        dataTable['output_type'] = 'display_data';\n",
              "        await google.colab.output.renderOutput(dataTable, element);\n",
              "        const docLink = document.createElement('div');\n",
              "        docLink.innerHTML = docLinkHtml;\n",
              "        element.appendChild(docLink);\n",
              "      }\n",
              "    </script>\n",
              "  </div>\n",
              "\n",
              "    </div>\n",
              "  </div>\n"
            ],
            "application/vnd.google.colaboratory.intrinsic+json": {
              "type": "dataframe",
              "repr_error": "0"
            }
          },
          "metadata": {},
          "execution_count": 64
        }
      ]
    },
    {
      "cell_type": "code",
      "source": [
        "for o in llist:\n",
        "  print(pd_diff_test.loc[o])"
      ],
      "metadata": {
        "id": "mlT8tS6TRQxg"
      },
      "execution_count": null,
      "outputs": []
    },
    {
      "cell_type": "markdown",
      "metadata": {
        "id": "KRYwb_7GB2-B"
      },
      "source": [
        "#### 2. Найдите вакансию с самой высокой заработной платой, где подойдет 4 года опыта работы и не нужно проходить тестовое задание.\n",
        "\n",
        "Ответ: Вакансия под индексом 191 (Python Developer) с минимальным ЗП 373767.6000\n",
        "и максимальным ЗП 560651.4000, опыт работы от 3 до 6 лет\n"
      ]
    },
    {
      "cell_type": "code",
      "execution_count": null,
      "metadata": {
        "id": "DFi8nQUoB2-B"
      },
      "outputs": [],
      "source": [
        "# ВАШ КОД ЗДЕСЬ\n",
        "#для решения задачи был использован дата фрейм test_pd_no_nan, в котором конвертация посчитана на 13.04.2024\n",
        "#шаблоны и индексы строк я ищу по дата фрейму pd\n",
        "\n",
        "#вакансии, где указан опыт работы \"от 1 года до 3 лет\", тоже подходят, потому что меньшая дата не является ограничением\n",
        "idxs = []\n",
        "\n",
        "for idx, row in pd.iterrows():\n",
        "  idxs.append(idx)\n",
        "idxs\n",
        "\n",
        "pd.loc[19][7]\n",
        "\n"
      ]
    },
    {
      "cell_type": "code",
      "source": [
        "pd.loc[0]"
      ],
      "metadata": {
        "colab": {
          "base_uri": "https://localhost:8080/"
        },
        "id": "iHLbptG_YANV",
        "outputId": "aef8f705-c22f-4d7a-d43c-6c2d6eb89f86"
      },
      "execution_count": 36,
      "outputs": [
        {
          "output_type": "execute_result",
          "data": {
            "text/plain": [
              "vacancy                    Backend/Full-stack developer (python)\n",
              "url            https://hh.ru/applicant/vacancy_response?vacan...\n",
              "created                                 2021-08-01T13:02:48+0300\n",
              "has_test                                                   False\n",
              "salary_from                                             120000.0\n",
              "salary_to                                                    NaN\n",
              "currency                                                     RUR\n",
              "experience                                    От 1 года до 3 лет\n",
              "schedule                                           Гибкий график\n",
              "skills                            Python;PostgreSQL;Linux;Flask;\n",
              "employer                                                  ATI.SU\n",
              "area                                             Санкт-Петербург\n",
              "description    Привет! Мы ATI.SU ― крупнейшая в России компан...\n",
              "Name: 0, dtype: object"
            ]
          },
          "metadata": {},
          "execution_count": 36
        }
      ]
    },
    {
      "cell_type": "code",
      "source": [
        "#найдем шаблоны описания опыта работы\n",
        "exp = []\n",
        "\n",
        "for i in idxs:\n",
        "  sent = pd.loc[i][7]\n",
        "  exp.append(sent)\n",
        "\n",
        "mn_exp = set(exp)\n",
        "mn_exp# из шаблонов нам подходят только 3"
      ],
      "metadata": {
        "colab": {
          "base_uri": "https://localhost:8080/"
        },
        "id": "Z_TSHyIRZfdM",
        "outputId": "8ff1b6a4-f1ed-4a61-f429-fab33930142a"
      },
      "execution_count": 80,
      "outputs": [
        {
          "output_type": "execute_result",
          "data": {
            "text/plain": [
              "{'Более 6 лет', 'Нет опыта', 'От 1 года до 3 лет', 'От 3 до 6 лет'}"
            ]
          },
          "metadata": {},
          "execution_count": 80
        }
      ]
    },
    {
      "cell_type": "code",
      "source": [
        "#получаем индекс строк, которые подходят под условия опыта работы\n",
        "need_id = []\n",
        "for id in idxs:\n",
        "  if pd.loc[id, 'experience'] == 'Нет опыта' or pd.loc[id, 'experience'] == 'От 1 года до 3 лет' or pd.loc[id, 'experience'] == 'От 3 до 6 лет':\n",
        "    if str(pd.loc[id, 'has_test']) == 'False':\n",
        "      need_id.append(id)\n",
        "#в need_id у нас собраны все нужыне нам строки, осталось найти из них вакансию с самой высокой оплатой\n"
      ],
      "metadata": {
        "id": "MJaJRpcYae71"
      },
      "execution_count": 78,
      "outputs": []
    },
    {
      "cell_type": "code",
      "source": [
        "zz = 1000\n",
        "if test_pd_no_nan.loc[19][4] >= zz:\n",
        "  print('yes')\n",
        "else:\n",
        "  print('no')\n",
        "test_pd_no_nan.loc[19][4]"
      ],
      "metadata": {
        "colab": {
          "base_uri": "https://localhost:8080/"
        },
        "id": "ZLzMzQMDfXES",
        "outputId": "2bccac35-686c-495d-fbb8-666eb302cfa2"
      },
      "execution_count": 86,
      "outputs": [
        {
          "output_type": "stream",
          "name": "stdout",
          "text": [
            "yes\n"
          ]
        },
        {
          "output_type": "execute_result",
          "data": {
            "text/plain": [
              "Decimal('339069.7600')"
            ]
          },
          "metadata": {},
          "execution_count": 86
        }
      ]
    },
    {
      "cell_type": "code",
      "source": [
        "#в задании не указано, какой столбец (salary_from или salary_to) считать, поэтому найдем вакансии по каждому столбцу и затем сравним их\n",
        "zp = 1\n",
        "result_id = 0\n",
        "\n",
        "for need in need_id:\n",
        "  if int(test_pd_no_nan.loc[need][4]) >= int(zp):\n",
        "    zp = test_pd_no_nan.loc[need][4]\n",
        "    result_id = need\n",
        "  else:\n",
        "    pass\n",
        "print(zp, '\\t', result_id)\n",
        "\n",
        "#ответ для from ЗП: 373767.6000 \t index: 191"
      ],
      "metadata": {
        "colab": {
          "base_uri": "https://localhost:8080/"
        },
        "id": "2M43yK7OeDxe",
        "outputId": "5ef96108-4411-4aac-b245-dbaa2d69421d"
      },
      "execution_count": 96,
      "outputs": [
        {
          "output_type": "stream",
          "name": "stdout",
          "text": [
            "373767.6000 \t 191\n"
          ]
        }
      ]
    },
    {
      "cell_type": "code",
      "source": [
        "zzp = 1\n",
        "rresult_id = 0\n",
        "\n",
        "for need in need_id:\n",
        "  if int(test_pd_no_nan.loc[need][5]) >= int(zzp):\n",
        "    zzp = test_pd_no_nan.loc[need][5]\n",
        "    rresult_id = need\n",
        "  else:\n",
        "    pass\n",
        "print(zzp, '\\t', rresult_id)\n",
        "#ответ для to ЗП: 560651.4000 \t index: 191"
      ],
      "metadata": {
        "colab": {
          "base_uri": "https://localhost:8080/"
        },
        "id": "rIvQsFNpirmu",
        "outputId": "950bd593-a052-47b6-df26-2cab007e12a9"
      },
      "execution_count": 97,
      "outputs": [
        {
          "output_type": "stream",
          "name": "stdout",
          "text": [
            "560651.4000 \t 191\n"
          ]
        }
      ]
    },
    {
      "cell_type": "code",
      "source": [
        "test_pd_no_nan[191:192]"
      ],
      "metadata": {
        "colab": {
          "base_uri": "https://localhost:8080/",
          "height": 170
        },
        "id": "HebCQqBuij9P",
        "outputId": "2291687e-5934-45ea-a37c-8f99c0b72c3f"
      },
      "execution_count": 103,
      "outputs": [
        {
          "output_type": "execute_result",
          "data": {
            "text/plain": [
              "              vacancy                                                url  \\\n",
              "191  Python Developer  https://hh.ru/applicant/vacancy_response?vacan...   \n",
              "\n",
              "                      created  has_test  salary_from    salary_to currency  \\\n",
              "191  2021-08-02T13:47:59+0300     False  373767.6000  560651.4000      RUR   \n",
              "\n",
              "        experience          schedule  \\\n",
              "191  От 3 до 6 лет  Удаленная работа   \n",
              "\n",
              "                                               skills           employer  \\\n",
              "191  Python;Django Framework;Git;SQL;PostgreSQL;REST;  Top Remote Talent   \n",
              "\n",
              "       area                                        description  \n",
              "191  Москва  A Dubai based startup in the PropTech industry...  "
            ],
            "text/html": [
              "\n",
              "  <div id=\"df-f067d13f-40d3-4321-bba2-1076e2955045\" class=\"colab-df-container\">\n",
              "    <div>\n",
              "<style scoped>\n",
              "    .dataframe tbody tr th:only-of-type {\n",
              "        vertical-align: middle;\n",
              "    }\n",
              "\n",
              "    .dataframe tbody tr th {\n",
              "        vertical-align: top;\n",
              "    }\n",
              "\n",
              "    .dataframe thead th {\n",
              "        text-align: right;\n",
              "    }\n",
              "</style>\n",
              "<table border=\"1\" class=\"dataframe\">\n",
              "  <thead>\n",
              "    <tr style=\"text-align: right;\">\n",
              "      <th></th>\n",
              "      <th>vacancy</th>\n",
              "      <th>url</th>\n",
              "      <th>created</th>\n",
              "      <th>has_test</th>\n",
              "      <th>salary_from</th>\n",
              "      <th>salary_to</th>\n",
              "      <th>currency</th>\n",
              "      <th>experience</th>\n",
              "      <th>schedule</th>\n",
              "      <th>skills</th>\n",
              "      <th>employer</th>\n",
              "      <th>area</th>\n",
              "      <th>description</th>\n",
              "    </tr>\n",
              "  </thead>\n",
              "  <tbody>\n",
              "    <tr>\n",
              "      <th>191</th>\n",
              "      <td>Python Developer</td>\n",
              "      <td>https://hh.ru/applicant/vacancy_response?vacan...</td>\n",
              "      <td>2021-08-02T13:47:59+0300</td>\n",
              "      <td>False</td>\n",
              "      <td>373767.6000</td>\n",
              "      <td>560651.4000</td>\n",
              "      <td>RUR</td>\n",
              "      <td>От 3 до 6 лет</td>\n",
              "      <td>Удаленная работа</td>\n",
              "      <td>Python;Django Framework;Git;SQL;PostgreSQL;REST;</td>\n",
              "      <td>Top Remote Talent</td>\n",
              "      <td>Москва</td>\n",
              "      <td>A Dubai based startup in the PropTech industry...</td>\n",
              "    </tr>\n",
              "  </tbody>\n",
              "</table>\n",
              "</div>\n",
              "    <div class=\"colab-df-buttons\">\n",
              "\n",
              "  <div class=\"colab-df-container\">\n",
              "    <button class=\"colab-df-convert\" onclick=\"convertToInteractive('df-f067d13f-40d3-4321-bba2-1076e2955045')\"\n",
              "            title=\"Convert this dataframe to an interactive table.\"\n",
              "            style=\"display:none;\">\n",
              "\n",
              "  <svg xmlns=\"http://www.w3.org/2000/svg\" height=\"24px\" viewBox=\"0 -960 960 960\">\n",
              "    <path d=\"M120-120v-720h720v720H120Zm60-500h600v-160H180v160Zm220 220h160v-160H400v160Zm0 220h160v-160H400v160ZM180-400h160v-160H180v160Zm440 0h160v-160H620v160ZM180-180h160v-160H180v160Zm440 0h160v-160H620v160Z\"/>\n",
              "  </svg>\n",
              "    </button>\n",
              "\n",
              "  <style>\n",
              "    .colab-df-container {\n",
              "      display:flex;\n",
              "      gap: 12px;\n",
              "    }\n",
              "\n",
              "    .colab-df-convert {\n",
              "      background-color: #E8F0FE;\n",
              "      border: none;\n",
              "      border-radius: 50%;\n",
              "      cursor: pointer;\n",
              "      display: none;\n",
              "      fill: #1967D2;\n",
              "      height: 32px;\n",
              "      padding: 0 0 0 0;\n",
              "      width: 32px;\n",
              "    }\n",
              "\n",
              "    .colab-df-convert:hover {\n",
              "      background-color: #E2EBFA;\n",
              "      box-shadow: 0px 1px 2px rgba(60, 64, 67, 0.3), 0px 1px 3px 1px rgba(60, 64, 67, 0.15);\n",
              "      fill: #174EA6;\n",
              "    }\n",
              "\n",
              "    .colab-df-buttons div {\n",
              "      margin-bottom: 4px;\n",
              "    }\n",
              "\n",
              "    [theme=dark] .colab-df-convert {\n",
              "      background-color: #3B4455;\n",
              "      fill: #D2E3FC;\n",
              "    }\n",
              "\n",
              "    [theme=dark] .colab-df-convert:hover {\n",
              "      background-color: #434B5C;\n",
              "      box-shadow: 0px 1px 3px 1px rgba(0, 0, 0, 0.15);\n",
              "      filter: drop-shadow(0px 1px 2px rgba(0, 0, 0, 0.3));\n",
              "      fill: #FFFFFF;\n",
              "    }\n",
              "  </style>\n",
              "\n",
              "    <script>\n",
              "      const buttonEl =\n",
              "        document.querySelector('#df-f067d13f-40d3-4321-bba2-1076e2955045 button.colab-df-convert');\n",
              "      buttonEl.style.display =\n",
              "        google.colab.kernel.accessAllowed ? 'block' : 'none';\n",
              "\n",
              "      async function convertToInteractive(key) {\n",
              "        const element = document.querySelector('#df-f067d13f-40d3-4321-bba2-1076e2955045');\n",
              "        const dataTable =\n",
              "          await google.colab.kernel.invokeFunction('convertToInteractive',\n",
              "                                                    [key], {});\n",
              "        if (!dataTable) return;\n",
              "\n",
              "        const docLinkHtml = 'Like what you see? Visit the ' +\n",
              "          '<a target=\"_blank\" href=https://colab.research.google.com/notebooks/data_table.ipynb>data table notebook</a>'\n",
              "          + ' to learn more about interactive tables.';\n",
              "        element.innerHTML = '';\n",
              "        dataTable['output_type'] = 'display_data';\n",
              "        await google.colab.output.renderOutput(dataTable, element);\n",
              "        const docLink = document.createElement('div');\n",
              "        docLink.innerHTML = docLinkHtml;\n",
              "        element.appendChild(docLink);\n",
              "      }\n",
              "    </script>\n",
              "  </div>\n",
              "\n",
              "    </div>\n",
              "  </div>\n"
            ],
            "application/vnd.google.colaboratory.intrinsic+json": {
              "type": "dataframe",
              "repr_error": "0"
            }
          },
          "metadata": {},
          "execution_count": 103
        }
      ]
    },
    {
      "cell_type": "code",
      "source": [
        "#тестовое задание не нужно проходить только на вакансиях с индексом ниже\n",
        "for id in idxs:\n",
        "  if str(pd.loc[id][3]) == 'True':\n",
        "    print(id)"
      ],
      "metadata": {
        "id": "E9r9XAZ4VgE_"
      },
      "execution_count": null,
      "outputs": []
    },
    {
      "cell_type": "code",
      "source": [
        "pd.loc[19][7]"
      ],
      "metadata": {
        "colab": {
          "base_uri": "https://localhost:8080/",
          "height": 36
        },
        "id": "vRBdxeR4S3kE",
        "outputId": "f08e2307-4015-4c5e-850d-b3e05a34acc1"
      },
      "execution_count": 17,
      "outputs": [
        {
          "output_type": "execute_result",
          "data": {
            "text/plain": [
              "'От 1 года до 3 лет'"
            ],
            "application/vnd.google.colaboratory.intrinsic+json": {
              "type": "string"
            }
          },
          "metadata": {},
          "execution_count": 17
        }
      ]
    },
    {
      "cell_type": "markdown",
      "metadata": {
        "id": "Q3TrVl-eB2-B"
      },
      "source": [
        "#### 3. Сделайте рейтинг (топ-30) навыков по всем вакансиям."
      ]
    },
    {
      "cell_type": "code",
      "execution_count": 177,
      "metadata": {
        "scrolled": true,
        "id": "uGox0GwFB2-B",
        "colab": {
          "base_uri": "https://localhost:8080/"
        },
        "outputId": "ee1bc713-425c-433f-df99-d995f23c2d74"
      },
      "outputs": [
        {
          "output_type": "execute_result",
          "data": {
            "text/plain": [
              "['Python', 'Git', 'Linux', 'SQL', 'Английский', 'язык']"
            ]
          },
          "metadata": {},
          "execution_count": 177
        }
      ],
      "source": [
        "# ВАШ КОД ЗДЕСЬ\n",
        "#в данной ячейке проверяю регулярки\n",
        "#все навыки записаны без пробелов через ';'\n",
        "spisok = []\n",
        "\n",
        "\n",
        "sss = pd_skills.loc[13][9]# в строке с индексом 12 в столбе skills стоит 0, до преобразования стояло NaN, нужно было проверить работу регулярки\n",
        "sss\n",
        "lss = re.findall('\\w[A-Za-zА-Яа-яЁё]*', str(sss))\n",
        "lss\n",
        "# spisok.append(sss)\n",
        "\n",
        "# spisok"
      ]
    },
    {
      "cell_type": "code",
      "source": [
        "pd_skills.loc[13][9]"
      ],
      "metadata": {
        "colab": {
          "base_uri": "https://localhost:8080/",
          "height": 36
        },
        "id": "ycGKiaANr7eu",
        "outputId": "3834566b-8b94-4048-b757-30a7e5231a20"
      },
      "execution_count": 157,
      "outputs": [
        {
          "output_type": "execute_result",
          "data": {
            "text/plain": [
              "'Python;Git;Linux;SQL;Английский язык;'"
            ],
            "application/vnd.google.colaboratory.intrinsic+json": {
              "type": "string"
            }
          },
          "metadata": {},
          "execution_count": 157
        }
      ]
    },
    {
      "cell_type": "code",
      "source": [
        "#сохраним индексы\n",
        "inds = []\n",
        "\n",
        "\n",
        "for idx, row in pd.iterrows():\n",
        "  inds.append(idx)\n",
        "\n",
        "\n",
        "inds"
      ],
      "metadata": {
        "id": "NvEYRQGyqSnq"
      },
      "execution_count": null,
      "outputs": []
    },
    {
      "cell_type": "code",
      "source": [
        "#создаю новую таблицу и убираю NaN, потому что в некоторых ячейках skills есть NaN\n",
        "pd_skills = pd.fillna(0) #заменяет nan на 0 с плавующей точкой\n",
        "pd_skills = pd_skills.applymap(f)"
      ],
      "metadata": {
        "id": "LFfz90CwrREZ"
      },
      "execution_count": 143,
      "outputs": []
    },
    {
      "cell_type": "code",
      "source": [
        "#пытаюсь подобрать регулярку, чтобы находить словосочетания (коллокации) от 1 до 4 слов. Регулярка получилась большой, думаю, что её можно улучшить и сделать меньше\n",
        "lll = 'Английский язык; трамплин, поиск информации в интернете, работа в команде'\n",
        "ddd = re.findall('\\w[A-Za-zА-Яа-яЁё]*\\s\\w[A-Za-zА-Яа-яЁё]*\\s\\w[A-Za-zА-Яа-яЁё]*\\s\\w[A-Za-zА-Яа-яЁё]*|\\w[A-Za-zА-Яа-яЁё]*\\s\\w[A-Za-zА-Яа-яЁё]*\\s\\w[A-Za-zА-Яа-яЁё]*|\\w[A-Za-zА-Яа-яЁё]*\\s\\w[A-Za-zА-Яа-яЁё]*|\\w[A-Za-zА-Яа-яЁё]*', lll)\n",
        "ddd"
      ],
      "metadata": {
        "colab": {
          "base_uri": "https://localhost:8080/"
        },
        "id": "ev51CPVBv52W",
        "outputId": "11ce3bc2-780b-4e5f-c417-9acde54bcfbd"
      },
      "execution_count": 248,
      "outputs": [
        {
          "output_type": "execute_result",
          "data": {
            "text/plain": [
              "['Английский язык',\n",
              " 'трамплин',\n",
              " 'поиск информации в интернете',\n",
              " 'работа в команде']"
            ]
          },
          "metadata": {},
          "execution_count": 248
        }
      ]
    },
    {
      "cell_type": "code",
      "source": [
        "#\\w[A-Za-zА-Яа-яЁё]*\\s\\w[A-Za-zА-Яа-яЁё]*|\\w[A-Za-zА-Яа-яЁё]*"
      ],
      "metadata": {
        "id": "g18sb56E3FaC"
      },
      "execution_count": null,
      "outputs": []
    },
    {
      "cell_type": "code",
      "source": [
        "#тут я создаю список из ВСЕХ навыков\n",
        "\n",
        "\n",
        "list_of_skills = []\n",
        "\n",
        "\n",
        "for ind in inds:\n",
        "  split = re.findall(\n",
        "      '\\w[A-Za-zА-Яа-яЁё]*\\s\\w[A-Za-zА-Яа-яЁё]*\\s\\w[A-Za-zА-Яа-яЁё]*\\s\\w[A-Za-zА-Яа-яЁё]*|\\w[A-Za-zА-Яа-яЁё]*\\s\\w[A-Za-zА-Яа-яЁё]*\\s\\w[A-Za-zА-Яа-яЁё]*|\\w[A-Za-zА-Яа-яЁё]*\\s\\w[A-Za-zА-Яа-яЁё]*|\\w[A-Za-zА-Яа-яЁё]*', str(pd_skills.loc[ind][9]))\n",
        "  list_of_skills.append(split)\n",
        "\n",
        "skills = []#все навыки вместе\n",
        "for i in list_of_skills:\n",
        "  for item in i:\n",
        "    skills.append(item)\n",
        "skills\n"
      ],
      "metadata": {
        "id": "LIrAnbyEqSl0"
      },
      "execution_count": null,
      "outputs": []
    },
    {
      "cell_type": "code",
      "source": [
        "from collections import Counter #функция для подсчета частотности"
      ],
      "metadata": {
        "id": "e4uJd4Ib5HHL"
      },
      "execution_count": 238,
      "outputs": []
    },
    {
      "cell_type": "code",
      "source": [
        "#считаю частотность\n",
        "\n",
        "\n",
        "skills_c1 = Counter()\n",
        "skills_c1.update(skills)\n",
        "skills_c1['0'] = 0 #Замененные NaN приняли значение 0, поэтому я обнуляю значение индекса '0', чтобы оно не было включено в топ 30, а оно насчитывало 210 употреблений\n",
        "print(skills_c1.most_common(30))\n",
        "dic = dict(skills_c1.most_common(30))\n",
        "spisok_of_skills = []\n",
        "\n",
        "\n",
        "newline = '\\n'\n",
        "count = 0\n",
        "\n",
        "for a, b in dic.items():\n",
        "  spisok_of_skills.append(a)\n",
        "print(spisok_of_skills)\n",
        "\n",
        "#Решил создать отдельныей txt, где сохранил отсортированные топ 30 навыков\n",
        "with open ('top 30 list of skills.txt', 'w', encoding = 'utf-8') as f:\n",
        "  for skill in spisok_of_skills:\n",
        "    count += 1\n",
        "    res = f'{count}) {skill}{newline}'\n",
        "    f.write(res)\n",
        "\n"
      ],
      "metadata": {
        "colab": {
          "base_uri": "https://localhost:8080/"
        },
        "id": "1jKltN3o5MBO",
        "outputId": "37f0ef4e-a835-46d0-ca7e-983e3e1985f9"
      },
      "execution_count": 270,
      "outputs": [
        {
          "output_type": "stream",
          "name": "stdout",
          "text": [
            "[('Python', 1448), ('Git', 586), ('SQL', 508), ('PostgreSQL', 499), ('Django Framework', 467), ('Linux', 463), ('Flask', 178), ('Docker', 178), ('JavaScript', 149), ('Английский язык', 141), ('MySQL', 128), ('ООП', 120), ('MongoDB', 113), ('Redis', 107), ('C', 88), ('HTML', 80), ('REST', 71), ('RabbitMQ', 68), ('CSS', 66), ('Django', 63), ('Atlassian Jira', 52), ('API', 50), ('MS SQL', 43), ('Java', 43), ('Базы данных', 41), ('Работа в команде', 39), ('AWS', 36), ('Pytest', 35), ('Celery', 35), ('aiohttp', 33)]\n",
            "['Python', 'Git', 'SQL', 'PostgreSQL', 'Django Framework', 'Linux', 'Flask', 'Docker', 'JavaScript', 'Английский язык', 'MySQL', 'ООП', 'MongoDB', 'Redis', 'C', 'HTML', 'REST', 'RabbitMQ', 'CSS', 'Django', 'Atlassian Jira', 'API', 'MS SQL', 'Java', 'Базы данных', 'Работа в команде', 'AWS', 'Pytest', 'Celery', 'aiohttp']\n"
          ]
        }
      ]
    },
    {
      "cell_type": "markdown",
      "metadata": {
        "id": "R31Xr_89B2-B"
      },
      "source": [
        "#### 4. Cоставьте топ-10 городов с наибольшей средней заработной платой по вакансиям тестировщика (QA).\n",
        "Ответ: 'Тамбов' 250 000\n",
        "'Санкт-Петербург' 88 809,\n",
        "'Москва' 64 137,\n",
        "'Казань' 30 000,\n",
        "  'Новосибирск' 0,\n",
        " 'Самара' 0,\n",
        "  'Саратов' 0,\n",
        " У Тамбова только одна вакансия, поэтому такое среднее\n"
      ]
    },
    {
      "cell_type": "code",
      "source": [
        "# ВАШ КОД ЗДЕСЬ\n",
        "#для решения задачи был использован дата фрейм test_pd_no_nan, в котором конвертация посчитана на 13.04.2024\n",
        "#Если я правильно посчитал, то городов всего 7, поэтому составлю список из 7 городов\n",
        "qa = re.findall('QA', pd.loc[4][0])"
      ],
      "metadata": {
        "id": "N9_xC-xqCMe6"
      },
      "execution_count": 296,
      "outputs": []
    },
    {
      "cell_type": "code",
      "source": [
        "test_pd_no_nan"
      ],
      "metadata": {
        "id": "XMbXPt8oHC0S"
      },
      "execution_count": null,
      "outputs": []
    },
    {
      "cell_type": "code",
      "source": [
        "id_of_qa = []#индексы QA тестировщиков\n",
        "\n",
        "for i in idxs:\n",
        "  #qa_vacs = re.findall('QA', pd.loc[i][0])\n",
        "  if re.findall('QA', pd.loc[i][0]):\n",
        "    id_of_qa.append(i)\n",
        "id_of_qa"
      ],
      "metadata": {
        "id": "b015E1WYBB8a"
      },
      "execution_count": null,
      "outputs": []
    },
    {
      "cell_type": "code",
      "source": [
        "pd[4:25]"
      ],
      "metadata": {
        "id": "V4eXeptdFCex"
      },
      "execution_count": null,
      "outputs": []
    },
    {
      "cell_type": "code",
      "source": [
        "test_pd_no_nan.loc[1][4]"
      ],
      "metadata": {
        "id": "Er4KGfP1HpWb"
      },
      "execution_count": null,
      "outputs": []
    },
    {
      "cell_type": "code",
      "source": [
        "city = []\n",
        "\n",
        "\n",
        "for id in id_of_qa:\n",
        "  city.append(pd.loc[id][11])\n",
        "print(city)\n",
        "mn_city = set(city)\n",
        "mn_city"
      ],
      "metadata": {
        "id": "JLhu03URExR6"
      },
      "execution_count": null,
      "outputs": []
    },
    {
      "cell_type": "code",
      "source": [
        "print(test_pd_no_nan.loc[26][4])\n",
        "print(test_pd_no_nan.loc[26][5])"
      ],
      "metadata": {
        "id": "OWXmIkIpJQKP"
      },
      "execution_count": null,
      "outputs": []
    },
    {
      "cell_type": "code",
      "source": [
        "#создадим списки для каждого города, в список положим зп\n",
        "kazan = []\n",
        "msk = []\n",
        "nov = []\n",
        "sam = []\n",
        "spb = []\n",
        "sar = []\n",
        "tamb = []\n",
        "#test_pd.loc[19][4] # salary from\n",
        "#test_pd.loc[19][5] # salary to\n",
        "id_kaz = []\n",
        "id_msk = []\n",
        "id_nov = []\n",
        "id_sam = []\n",
        "id_spb = []\n",
        "id_sar = []\n",
        "id_tamb = []\n",
        "\n",
        "#поскольку в условиях не указаны условия подсчёта, я решил выбирать самое большое число из salary_from и salary_to\n",
        "for id in id_of_qa:\n",
        "  if test_pd_no_nan.loc[id][11] == 'Казань':\n",
        "    id_kaz.append(id)\n",
        "    if int(test_pd_no_nan.loc[id][4]) > 0:#если больше 0, то идем ниже иначе идем в else, где сохраняем salary_to(не важно 0 это или нет)\n",
        "      if int(test_pd_no_nan.loc[id][4]) >= int(test_pd_no_nan.loc[id][5]):#если salary_from больше salary_to, то заполняем список salary_from\n",
        "        kazan.append(int(test_pd_no_nan.loc[id][4]))\n",
        "      else:\n",
        "        kazan.append(int(test_pd_no_nan.loc[id][5]))\n",
        "    else:\n",
        "      kazan.append(int(test_pd_no_nan.loc[id][5]))\n",
        "\n",
        "  elif test_pd_no_nan.loc[id][11] == 'Москва':\n",
        "    id_msk.append(id)\n",
        "    if int(test_pd_no_nan.loc[id][4]) > 0:\n",
        "      if int(test_pd_no_nan.loc[id][4]) >= int(test_pd_no_nan.loc[id][5]):\n",
        "        msk.append(int(test_pd_no_nan.loc[id][4]))\n",
        "      else:\n",
        "        msk.append(int(test_pd_no_nan.loc[id][5]))\n",
        "    else:\n",
        "      msk.append(int(test_pd_no_nan.loc[id][5]))\n",
        "\n",
        "  elif test_pd_no_nan.loc[id][11] == 'Новосибирск':\n",
        "    id_nov.append(id)\n",
        "    if int(test_pd_no_nan.loc[id][4]) > 0:\n",
        "      if int(test_pd_no_nan.loc[id][4]) >= int(test_pd_no_nan.loc[id][5]):\n",
        "        nov.append(int(test_pd_no_nan.loc[id][4]))\n",
        "      else:\n",
        "        nov.append(int(test_pd_no_nan.loc[id][5]))\n",
        "    else:\n",
        "      nov.append(int(test_pd_no_nan.loc[id][5]))\n",
        "\n",
        "  elif test_pd_no_nan.loc[id][11] == 'Самара':\n",
        "    id_sam.append(id)\n",
        "    if int(test_pd_no_nan.loc[id][4]) > 0:\n",
        "      if int(test_pd_no_nan.loc[id][4]) >= int(test_pd_no_nan.loc[id][5]):\n",
        "        sam.append(int(test_pd_no_nan.loc[id][4]))\n",
        "      else:\n",
        "        sam.append(int(test_pd_no_nan.loc[id][5]))\n",
        "    else:\n",
        "      sam.append(int(test_pd_no_nan.loc[id][5]))\n",
        "\n",
        "  elif test_pd_no_nan.loc[id][11] == 'Санкт-Петербург':\n",
        "    id_spb.append(id)\n",
        "    if int(test_pd_no_nan.loc[id][4]) > 0:\n",
        "      if int(test_pd_no_nan.loc[id][4]) >= int(test_pd_no_nan.loc[id][5]):\n",
        "        spb.append(int(test_pd_no_nan.loc[id][4]))\n",
        "      else:\n",
        "        spb.append(int(test_pd_no_nan.loc[id][5]))\n",
        "    else:\n",
        "      spb.append(int(test_pd_no_nan.loc[id][5]))\n",
        "\n",
        "  elif test_pd_no_nan.loc[id][11] == 'Саратов':\n",
        "    id_sar.append(id)\n",
        "    if int(test_pd_no_nan.loc[id][4]) > 0:\n",
        "      if int(test_pd_no_nan.loc[id][4]) >= int(test_pd_no_nan.loc[id][5]):\n",
        "        sar.append(int(test_pd_no_nan.loc[id][4]))\n",
        "      else:\n",
        "        sar.append(int(test_pd_no_nan.loc[id][5]))\n",
        "    else:\n",
        "      sar.append(int(test_pd_no_nan.loc[id][5]))\n",
        "\n",
        "  elif test_pd_no_nan.loc[id][11] == 'Тамбов':\n",
        "    id_tamb.append(id)\n",
        "    if int(test_pd_no_nan.loc[id][4]) > 0:\n",
        "      if int(test_pd_no_nan.loc[id][4]) >= int(test_pd_no_nan.loc[id][5]):\n",
        "        tamb.append(int(test_pd_no_nan.loc[id][4]))\n",
        "      else:\n",
        "        tamb.append(int(test_pd_no_nan.loc[id][5]))\n",
        "    else:\n",
        "      tamb.append(int(test_pd_no_nan.loc[id][5]))\n",
        "\n",
        "\n",
        "print(kazan, msk, spb, sam, sar, nov, tamb, sep='\\n')\n"
      ],
      "metadata": {
        "id": "9v8uOM1JGYSe"
      },
      "execution_count": null,
      "outputs": []
    },
    {
      "cell_type": "code",
      "source": [
        "sam"
      ],
      "metadata": {
        "id": "XH9lb0xOVGQx"
      },
      "execution_count": null,
      "outputs": []
    },
    {
      "cell_type": "code",
      "source": [
        "#посчитаем среднее всех городов: сумма, деленная на кол-во\n",
        "#Среднее казань\n",
        "counter_kaz = 0\n",
        "summ_kaz = sum(kazan)\n",
        "\n",
        "\n",
        "for i in kazan:\n",
        "   counter_kaz += 1\n",
        "\n",
        "\n",
        "srednee_kaz = summ_kaz / counter_kaz\n",
        "srednee_kaz\n",
        "\n",
        "\n",
        "#msk\n",
        "counter_msk = 0\n",
        "summ_msk = sum(msk)\n",
        "\n",
        "\n",
        "for i in msk:\n",
        "   counter_msk += 1\n",
        "\n",
        "\n",
        "srednee_msk = summ_msk / counter_msk\n",
        "srednee_msk\n",
        "\n",
        "\n",
        "#nov\n",
        "counter_nov = 0\n",
        "summ_nov = sum(nov)\n",
        "\n",
        "\n",
        "for i in nov:\n",
        "   counter_nov += 1\n",
        "\n",
        "\n",
        "srednee_nov = summ_nov / counter_nov\n",
        "srednee_nov\n",
        "\n",
        "\n",
        "#sam\n",
        "counter_sam = 0\n",
        "summ_sam = sum(sam)\n",
        "\n",
        "\n",
        "for i in sam:\n",
        "   counter_sam += 1\n",
        "\n",
        "\n",
        "srednee_sam = summ_sam / counter_sam\n",
        "srednee_sam\n",
        "\n",
        "\n",
        "#spb\n",
        "counter_spb = 0\n",
        "summ_spb = sum(spb)\n",
        "\n",
        "\n",
        "for i in spb:\n",
        "   counter_spb += 1\n",
        "\n",
        "\n",
        "srednee_spb = summ_spb / counter_spb\n",
        "srednee_spb\n",
        "\n",
        "\n",
        "#sar\n",
        "counter_sar = 0\n",
        "summ_sar = sum(sar)\n",
        "\n",
        "\n",
        "for i in sar:\n",
        "   counter_sar += 1\n",
        "\n",
        "\n",
        "srednee_sar = summ_sar / counter_sar\n",
        "srednee_sar\n",
        "\n",
        "\n",
        "#tamb\n",
        "counter_tamb = 0\n",
        "summ_tamb = sum(tamb)\n",
        "\n",
        "\n",
        "for i in tamb:\n",
        "   counter_tamb += 1\n",
        "\n",
        "\n",
        "srednee_tamb = summ_tamb / counter_tamb\n",
        "srednee_tamb\n",
        "\n",
        "city_slovar = {'Казань':srednee_kaz, 'Москва':srednee_msk, 'Новосибирск':srednee_nov, 'Самара':srednee_sam,\n",
        "               'Санкт-Петербург':srednee_spb, 'Саратов':srednee_sar, 'Тамбов':srednee_tamb}\n",
        "\n",
        "# for a, b in city_slovar.items():\n",
        "#   if a == 'Казань':\n",
        "#     city_slovar['a'] = srednee_kaz\n",
        "#   elif a == 'Москва':\n",
        "#     city_slovar['a'] = srednee_msk\n",
        "#   elif a == 'Новосибирск':\n",
        "#     city_slovar['a'] = srednee_nov\n",
        "#   elif a == 'Самара':\n",
        "#     city_slovar['a'] = srednee_sam\n",
        "#   elif a == 'Санкт-Петербург':\n",
        "#     city_slovar['a'] = srednee_spb\n",
        "#   elif a == 'Саратов':\n",
        "#     city_slovar['a'] = srednee_sar\n",
        "#   elif a == 'Тамбов':\n",
        "#     city_slovar['a'] = srednee_tamb\n",
        "\n",
        "print(city_slovar)\n"
      ],
      "metadata": {
        "colab": {
          "base_uri": "https://localhost:8080/"
        },
        "id": "BfGS6C8wJgvs",
        "outputId": "93bcb852-23e5-4cce-d46d-2e2fe997adfe"
      },
      "execution_count": 356,
      "outputs": [
        {
          "output_type": "stream",
          "name": "stdout",
          "text": [
            "{'Казань': 30000.0, 'Москва': 64137.93103448276, 'Новосибирск': 0.0, 'Самара': 0.0, 'Санкт-Петербург': 88809.52380952382, 'Саратов': 0.0, 'Тамбов': 250000.0}\n"
          ]
        }
      ]
    },
    {
      "cell_type": "markdown",
      "source": [
        "{'Казань' 30 000,\n",
        " 'Москва' 64 137,\n",
        " 'Новосибирск' 0,\n",
        " 'Самара' 0,\n",
        " 'Санкт-Петербург' 88 809,\n",
        " 'Саратов' 0,\n",
        " 'Тамбов' 250 000}\n"
      ],
      "metadata": {
        "id": "lPATSL0XTs8-"
      }
    },
    {
      "cell_type": "code",
      "source": [],
      "metadata": {
        "id": "W6n1QFayVXhb"
      },
      "execution_count": null,
      "outputs": []
    },
    {
      "cell_type": "code",
      "source": [
        "pd"
      ],
      "metadata": {
        "id": "2hKV88-OFggA"
      },
      "execution_count": null,
      "outputs": []
    },
    {
      "cell_type": "markdown",
      "metadata": {
        "id": "sT7vaN-mB2-C"
      },
      "source": [
        "#### 5. Напишите функцию для поиска вакансий по переданным в нее значениям заработной платы, наличия тестового задания, наличия заданного текста в наименовании вакансии, наличия заданного навыка. В результате выведите количество найденных вакансий, среднюю заработную плату по найденным вакансиям и список ссылок найденных вакансий."
      ]
    },
    {
      "cell_type": "code",
      "execution_count": null,
      "metadata": {
        "id": "9yZpLx08B2-C"
      },
      "outputs": [],
      "source": [
        "# ВАШ КОД ЗДЕСЬ\n"
      ]
    },
    {
      "cell_type": "code",
      "source": [],
      "metadata": {
        "colab": {
          "base_uri": "https://localhost:8080/"
        },
        "id": "9aHmzWftdUDh",
        "outputId": "5dcf95e8-f6c9-41e5-e950-eb3c612d30f1"
      },
      "execution_count": 361,
      "outputs": [
        {
          "output_type": "execute_result",
          "data": {
            "text/plain": [
              "['500000']"
            ]
          },
          "metadata": {},
          "execution_count": 361
        }
      ]
    },
    {
      "cell_type": "markdown",
      "metadata": {
        "id": "JmAmO3Y6B2-C"
      },
      "source": [
        "#### *Необязательно*. Усложненный вариант - сделать атрибуты функции опциональными, чтобы иметь возможность фильтрации вакансий по любой комбинации условий."
      ]
    },
    {
      "cell_type": "code",
      "execution_count": null,
      "metadata": {
        "id": "t1GdiKe9B2-C"
      },
      "outputs": [],
      "source": [
        "# ВАШ КОД ЗДЕСЬ\n"
      ]
    }
  ],
  "metadata": {
    "kernelspec": {
      "display_name": "Python 3 (ipykernel)",
      "language": "python",
      "name": "python3"
    },
    "language_info": {
      "codemirror_mode": {
        "name": "ipython",
        "version": 3
      },
      "file_extension": ".py",
      "mimetype": "text/x-python",
      "name": "python",
      "nbconvert_exporter": "python",
      "pygments_lexer": "ipython3",
      "version": "3.9.13"
    },
    "colab": {
      "provenance": []
    }
  },
  "nbformat": 4,
  "nbformat_minor": 0
}