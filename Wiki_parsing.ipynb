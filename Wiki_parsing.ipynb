{
  "nbformat": 4,
  "nbformat_minor": 0,
  "metadata": {
    "colab": {
      "provenance": []
    },
    "kernelspec": {
      "name": "python3",
      "display_name": "Python 3"
    },
    "language_info": {
      "name": "python"
    }
  },
  "cells": [
    {
      "cell_type": "code",
      "source": [
        "!pip install wikipedia"
      ],
      "metadata": {
        "id": "GpRNmVK5yVuf"
      },
      "execution_count": null,
      "outputs": []
    },
    {
      "cell_type": "code",
      "execution_count": null,
      "metadata": {
        "id": "tjUiBnMbyNsG"
      },
      "outputs": [],
      "source": [
        "import wikipedia\n",
        "import pprint\n",
        "import warnings"
      ]
    },
    {
      "cell_type": "code",
      "source": [
        "warnings.filterwarnings(\"ignore\")\n",
        "\n",
        "f = open('errors_log', 'w', encoding='utf-8')\n",
        "p = pprint\n",
        "wikipedia.set_lang('ru')\n",
        "##print(wikipedia.summary('Виктор Пушкин', sentences=2))\n",
        "puskin_all = wikipedia.page('Виктор Пушкин')\n",
        "##print(puskin_all.title)\n",
        "##print(puskin_all.section('Биография'))\n",
        "ten_pages = wikipedia.random(pages=10)\n",
        "print(ten_pages)\n",
        "\n",
        "for i in ten_pages:\n",
        "    bio = wikipedia.page(i).section('Биография')\n",
        "    if bio != None:\n",
        "        try:\n",
        "            print(wikipedia.page(i).title)\n",
        "            print('-'*40)\n",
        "            print(wikipedia.page(i).section('Биография'))\n",
        "            print('\\n')\n",
        "        except wikipedia.exceptions.DisambiguationError:\n",
        "          continue\n",
        "\n",
        "f.close()"
      ],
      "metadata": {
        "colab": {
          "base_uri": "https://localhost:8080/"
        },
        "id": "TyZHbDQsyQ2V",
        "outputId": "b0e7ebce-ff36-4242-86a9-eb0fb42d8787"
      },
      "execution_count": null,
      "outputs": [
        {
          "output_type": "stream",
          "name": "stdout",
          "text": [
            "['Лаврово (Рыбинский район)', '64-й Венецианский кинофестиваль', 'The Crickets', 'Ле Пен', 'Елюй Ахай', '12 Days', 'Аргументы максимизации и минимизации', 'Роппенайм', 'Кубок мира по биатлону 2014/2015. Индивидуальные гонки', 'Иннялы']\n",
            "Резцова, Кристина Леонидовна\n",
            "----------------------------------------\n",
            "Воспитанница подмосковного биатлона. В 2014 году перешла в Ханты-Мансийск.\n",
            "\n",
            "\n"
          ]
        }
      ]
    },
    {
      "cell_type": "code",
      "source": [],
      "metadata": {
        "id": "m5pnQiUjywJE"
      },
      "execution_count": null,
      "outputs": []
    }
  ]
}