{
  "cells": [
    {
      "cell_type": "code",
      "execution_count": null,
      "metadata": {
        "colab": {
          "base_uri": "https://localhost:8080/"
        },
        "id": "8I3UQ4uhUlSR",
        "outputId": "f6ca3da7-7d6b-479c-ce57-5347fc414906"
      },
      "outputs": [
        {
          "output_type": "stream",
          "name": "stdout",
          "text": [
            "Collecting ufal.udpipe\n",
            "  Downloading ufal.udpipe-1.3.1.1-cp310-cp310-manylinux_2_17_x86_64.manylinux2014_x86_64.whl (936 kB)\n",
            "\u001b[?25l     \u001b[90m━━━━━━━━━━━━━━━━━━━━━━━━━━━━━━━━━━━━━━━━\u001b[0m \u001b[32m0.0/936.8 kB\u001b[0m \u001b[31m?\u001b[0m eta \u001b[36m-:--:--\u001b[0m\r\u001b[2K     \u001b[91m━━━━━━\u001b[0m\u001b[91m╸\u001b[0m\u001b[90m━━━━━━━━━━━━━━━━━━━━━━━━━━━━━━━━━\u001b[0m \u001b[32m163.8/936.8 kB\u001b[0m \u001b[31m4.9 MB/s\u001b[0m eta \u001b[36m0:00:01\u001b[0m\r\u001b[2K     \u001b[91m━━━━━━━━━━━━━━━━━━━━━━━\u001b[0m\u001b[90m╺\u001b[0m\u001b[90m━━━━━━━━━━━━━━━━\u001b[0m \u001b[32m542.7/936.8 kB\u001b[0m \u001b[31m7.9 MB/s\u001b[0m eta \u001b[36m0:00:01\u001b[0m\r\u001b[2K     \u001b[91m━━━━━━━━━━━━━━━━━━━━━━━━━━━━━━━━━━━━━━━\u001b[0m\u001b[91m╸\u001b[0m \u001b[32m931.8/936.8 kB\u001b[0m \u001b[31m9.6 MB/s\u001b[0m eta \u001b[36m0:00:01\u001b[0m\r\u001b[2K     \u001b[90m━━━━━━━━━━━━━━━━━━━━━━━━━━━━━━━━━━━━━━━━\u001b[0m \u001b[32m936.8/936.8 kB\u001b[0m \u001b[31m8.6 MB/s\u001b[0m eta \u001b[36m0:00:00\u001b[0m\n",
            "\u001b[?25hInstalling collected packages: ufal.udpipe\n",
            "Successfully installed ufal.udpipe-1.3.1.1\n"
          ]
        }
      ],
      "source": [
        "!pip install ufal.udpipe"
      ]
    },
    {
      "cell_type": "code",
      "execution_count": null,
      "metadata": {
        "colab": {
          "base_uri": "https://localhost:8080/"
        },
        "id": "9nzR484AU1gB",
        "outputId": "fe02f33b-1fe4-4bc0-c461-371aef5803ff"
      },
      "outputs": [
        {
          "output_type": "stream",
          "name": "stdout",
          "text": [
            "--2023-11-27 09:24:09--  https://github.com/ancatmara/data-science-nlp/raw/master/data/russian-ud-2.0-170801.udpipe\n",
            "Resolving github.com (github.com)... 140.82.114.3\n",
            "Connecting to github.com (github.com)|140.82.114.3|:443... connected.\n",
            "HTTP request sent, awaiting response... 302 Found\n",
            "Location: https://raw.githubusercontent.com/ancatmara/data-science-nlp/master/data/russian-ud-2.0-170801.udpipe [following]\n",
            "--2023-11-27 09:24:09--  https://raw.githubusercontent.com/ancatmara/data-science-nlp/master/data/russian-ud-2.0-170801.udpipe\n",
            "Resolving raw.githubusercontent.com (raw.githubusercontent.com)... 185.199.108.133, 185.199.110.133, 185.199.109.133, ...\n",
            "Connecting to raw.githubusercontent.com (raw.githubusercontent.com)|185.199.108.133|:443... connected.\n",
            "HTTP request sent, awaiting response... 200 OK\n",
            "Length: 13265262 (13M) [application/octet-stream]\n",
            "Saving to: ‘russian-ud-2.0-170801.udpipe’\n",
            "\n",
            "russian-ud-2.0-1708 100%[===================>]  12.65M  --.-KB/s    in 0.1s    \n",
            "\n",
            "2023-11-27 09:24:10 (124 MB/s) - ‘russian-ud-2.0-170801.udpipe’ saved [13265262/13265262]\n",
            "\n"
          ]
        }
      ],
      "source": [
        "!wget https://github.com/ancatmara/data-science-nlp/raw/master/data/russian-ud-2.0-170801.udpipe"
      ]
    },
    {
      "cell_type": "code",
      "execution_count": null,
      "metadata": {
        "id": "GbuVhgfnU7M3"
      },
      "outputs": [],
      "source": [
        "from ufal.udpipe import Model, Pipeline"
      ]
    },
    {
      "cell_type": "code",
      "source": [
        "import nltk"
      ],
      "metadata": {
        "id": "01EhVYheYdSv"
      },
      "execution_count": null,
      "outputs": []
    },
    {
      "cell_type": "code",
      "source": [
        "nltk.download('punkt')"
      ],
      "metadata": {
        "colab": {
          "base_uri": "https://localhost:8080/"
        },
        "id": "0A9HgAPGY1O8",
        "outputId": "a71ac62c-5daa-4e07-c5b8-7b45b9dc0de7"
      },
      "execution_count": null,
      "outputs": [
        {
          "output_type": "stream",
          "name": "stderr",
          "text": [
            "[nltk_data] Downloading package punkt to /root/nltk_data...\n",
            "[nltk_data]   Unzipping tokenizers/punkt.zip.\n"
          ]
        },
        {
          "output_type": "execute_result",
          "data": {
            "text/plain": [
              "True"
            ]
          },
          "metadata": {},
          "execution_count": 5
        }
      ]
    },
    {
      "cell_type": "code",
      "execution_count": null,
      "metadata": {
        "id": "CpIAOzs6U-9r"
      },
      "outputs": [],
      "source": [
        "model = Model.load('russian-ud-2.0-170801.udpipe')"
      ]
    },
    {
      "cell_type": "code",
      "source": [
        "text = 'Много внимания уделяется разработке современных средств по обработке языка'\n",
        "pipeline = Pipeline(model, 'tokenize', Pipeline.DEFAULT, Pipeline.DEFAULT, Pipeline.DEFAULT)\n",
        "parsed =  pipeline.process(text)\n",
        "print(parsed)"
      ],
      "metadata": {
        "colab": {
          "base_uri": "https://localhost:8080/"
        },
        "id": "IDdk0N9AF-gG",
        "outputId": "e00c04d9-37da-4b8f-d88f-aae527592654"
      },
      "execution_count": null,
      "outputs": [
        {
          "output_type": "stream",
          "name": "stdout",
          "text": [
            "# newdoc\n",
            "# newpar\n",
            "# sent_id = 1\n",
            "# text = Много внимания уделяется разработке современных средств по обработке языка\n",
            "1\tМного\tМНОГО\tADJ\tJJL\tAnimacy=Inan|Case=Gen|Gender=Neut|Number=Sing\t2\tamod\t_\t_\n",
            "2\tвнимания\tВНИМАНИЕ\tNOUN\tNN\tAnimacy=Inan|Case=Gen|Gender=Neut|Number=Sing\t3\tnsubj\t_\t_\n",
            "3\tуделяется\tУДЕЛЯТЬСЯ\tVERB\tVBC\tAspect=Imp|Mood=Ind|Number=Sing|Person=3|Tense=Pres|VerbForm=Fin|Voice=Mid\t0\troot\t_\t_\n",
            "4\tразработке\tРАЗРАБОТКА\tNOUN\tNN\tAnimacy=Inan|Case=Dat|Gender=Fem|Number=Sing\t3\tiobj\t_\t_\n",
            "5\tсовременных\tСОВРЕМЕННЫЙ\tADJ\tJJL\tAnimacy=Inan|Case=Gen|Number=Plur\t6\tamod\t_\t_\n",
            "6\tсредств\tСРЕДСТВО\tNOUN\tNN\tAnimacy=Inan|Case=Gen|Gender=Neut|Number=Plur\t4\tnmod\t_\t_\n",
            "7\tпо\tПО\tADP\tIN\t_\t8\tcase\t_\t_\n",
            "8\tобработке\tОБРАБОТКА\tNOUN\tNN\tAnimacy=Inan|Case=Dat|Gender=Fem|Number=Sing\t6\tnmod\t_\t_\n",
            "9\tязыка\tЯЗЫК\tNOUN\tNN\tAnimacy=Inan|Case=Gen|Gender=Masc|Number=Sing\t8\tnmod\t_\tSpacesAfter=\\n\n",
            "\n",
            "\n"
          ]
        }
      ]
    },
    {
      "cell_type": "code",
      "execution_count": null,
      "metadata": {
        "id": "B2lMYk5dVGh9"
      },
      "outputs": [],
      "source": [
        "f = open('brusov.txt')\n",
        "f2 = open('brusov_UDpipe.txt', 'w')\n",
        "f2.write(\"Word\\tLemma\\tPOS\\tGram\\n\")\n",
        "pipeline = Pipeline(model, 'tokenize', Pipeline.DEFAULT, Pipeline.DEFAULT, Pipeline.DEFAULT)\n",
        "\n",
        "\n",
        "for line in f:\n",
        "  parsed = pipeline.process(str(line))\n",
        "  print(parsed)\n",
        "  f2.write(parsed)\n",
        "f2.close()\n",
        "f.close()"
      ]
    },
    {
      "cell_type": "code",
      "execution_count": null,
      "metadata": {
        "id": "-FP9Op9LVQ5d"
      },
      "outputs": [],
      "source": []
    }
  ],
  "metadata": {
    "colab": {
      "provenance": []
    },
    "kernelspec": {
      "display_name": "Python 3",
      "name": "python3"
    },
    "language_info": {
      "name": "python"
    }
  },
  "nbformat": 4,
  "nbformat_minor": 0
}